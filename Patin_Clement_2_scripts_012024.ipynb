{
 "cells": [
  {
   "cell_type": "markdown",
   "id": "c4ddf5d0-70dd-435d-b604-afad60ca89c2",
   "metadata": {},
   "source": [
    "# DÉTECTEZ LES BAD BUZZ GRACE AU DEEP LEARNING"
   ]
  },
  {
   "cell_type": "markdown",
   "id": "76ed4957-2113-4cbd-922c-ea99c3910bda",
   "metadata": {},
   "source": [
    "<img src=\"logo_air_paradis.png\" alt=\"logo_air_paradis\" width=\"400\" class=\"center\"/>"
   ]
  },
  {
   "cell_type": "markdown",
   "id": "3917f963-9dae-4217-b36e-298c8dce7b33",
   "metadata": {},
   "source": [
    "# PRÉAMBULE"
   ]
  },
  {
   "cell_type": "markdown",
   "id": "ab100d1d-4e98-4ad6-9fcd-148236d86ec8",
   "metadata": {},
   "source": [
    "## 0.1) Projet de l'entreprise *Air Paradis*"
   ]
  },
  {
   "cell_type": "markdown",
   "id": "53290791-40bf-414a-8ede-3a36905d3737",
   "metadata": {},
   "source": [
    "*Air Paradis* souhaite pouvoir disposer d'un **produit IA** permettant d'**anticiper les bad buzz** sur les **réseaux sociaux**.\n",
    "\n",
    "L'entreprise a missionné *MIC* (*Marketing Intelligence Consulting*) pour l'accompagner dans le développement du ce projet, avec les éléments de mission suivants :\n",
    "- **Préparer un prototype** de produit IA permettant de **prédire le sentiment associé à un tweet**\n",
    "- **Préparer un support** de présentation **vulgarisant la méthodologie** utilisée pour l'approche \"modèle sur mesure avancé\""
   ]
  },
  {
   "cell_type": "markdown",
   "id": "25d254ce-2f31-4af1-bbee-c269ab608434",
   "metadata": {},
   "source": [
    "## 0.2) Proposition de *MIC*"
   ]
  },
  {
   "cell_type": "markdown",
   "id": "3372d6f3-eaee-4572-b131-ac4dc8d815ec",
   "metadata": {},
   "source": [
    "Afin de **répondre au mieux à *Air Paradis*** et permettre une **meilleure évangélisation des connaissances acquises**, nous avons décomposé la mission de la manière suivante :\n",
    "- Tests de plusieurs approches de **modélisation** :\n",
    "    - **\"Modèle sur mesure simple\"** : développement rapide d'un modèle **classique** de machine learning (régression logistique par exemple), qui servira de base de comparaison\n",
    "    - **\"Modèle sur mesure avancé\"** : développement plus poussé d'un modèle de Deep Learning.<br>\n",
    "      Tests de :\n",
    "        - plusieurs modèles\n",
    "        - plusieurs **word embeddings**\n",
    "    - de l'apport d'un modèle basé sur des transformers : ***BERT*** (*Bidirectional Encoder Representation from Transformers*)\n",
    "- Élaboration du prototype en suivant la **démarche MLOps** :\n",
    "    - présentation synthétique des **principes du MLOps** et de ses apports\n",
    "    - utilisation de **`MLFlow`** pour :\n",
    "        - assurer les **gestion des expérimentations** (tracking, reporting)\n",
    "        - centraliser le **stockage des modèles**\n",
    "        - tester le **serving** proposé\n",
    "    - mettre en oeuvre un **pipeline de déploiement continu** du modèle gagnant :\n",
    "        - via une **API** : Git + GitHub + Azure WebApp\n",
    "        - intégrant des **tests unitaires**\n",
    "        - **limitant les coûts** :\n",
    "            - version **gratuite** d'Azure WebApp\n",
    "            - limiter la taille du modèle gagnant via **TensorFlow Lite**\n",
    "- Rédiger un **article de blog** sur la démarche de modélisation utilisée :\n",
    "    - modèles\n",
    "    - métriques\n",
    "    - interprétabilité\n",
    "    - démarche MLOps\n",
    "- Préparer **une présentation** expliquant la démarche avec un **travail de vulgarisation**"
   ]
  },
  {
   "cell_type": "markdown",
   "id": "f8772175-ac95-461a-b177-c1e0e7ccee44",
   "metadata": {},
   "source": [
    "## 0.3) Imports des librairies"
   ]
  },
  {
   "cell_type": "code",
   "execution_count": 6,
   "id": "59a38667-ef48-43d5-9718-b04b14aad049",
   "metadata": {
    "scrolled": true
   },
   "outputs": [
    {
     "name": "stdout",
     "output_type": "stream",
     "text": [
      "The autoreload extension is already loaded. To reload it, use:\n",
      "  %reload_ext autoreload\n"
     ]
    },
    {
     "name": "stderr",
     "output_type": "stream",
     "text": [
      "[nltk_data] Downloading package stopwords to\n",
      "[nltk_data]     C:\\Users\\cleme\\AppData\\Roaming\\nltk_data...\n",
      "[nltk_data]   Package stopwords is already up-to-date!\n"
     ]
    }
   ],
   "source": [
    "# for memory management\n",
    "import gc\n",
    "\n",
    "# file and directory management\n",
    "import os\n",
    "import shutil\n",
    "# to make saves\n",
    "from joblib import dump, load\n",
    "# to inspect functions\n",
    "import inspect\n",
    "\n",
    "# data manipulation\n",
    "import pandas as pd  # to manipulate the dataset with dataframes\n",
    "import numpy as np  # for statistics and calculations\n",
    "\n",
    "# data viz\n",
    "import matplotlib.pyplot as plt\n",
    "import seaborn as sns\n",
    "sns.set_theme(style=\"white\")\n",
    "from wordcloud import WordCloud\n",
    "\n",
    "# custom functions\n",
    "import myFunctions as mf\n",
    "%load_ext autoreload\n",
    "    \n",
    "%autoreload 2\n",
    "\n",
    "# nlp with nltk\n",
    "import nltk\n",
    "# stopwords management\n",
    "from nltk.corpus import stopwords\n",
    "nltk.download('stopwords')\n",
    "# nlp with spacy\n",
    "import spacy\n",
    "nlp = spacy.load(\"en_core_web_sm\")\n",
    "# regular expressions\n",
    "import re\n",
    "# counter\n",
    "from collections import Counter\n",
    "\n",
    "# scikit learn\n",
    "from sklearn.model_selection import train_test_split\n",
    "from sklearn.model_selection import KFold\n",
    "from sklearn.feature_extraction.text import TfidfVectorizer\n",
    "from sklearn.metrics import RocCurveDisplay, PrecisionRecallDisplay, classification_report, accuracy_score, roc_auc_score\n",
    "from sklearn.pipeline import Pipeline\n",
    "from sklearn.dummy import DummyClassifier\n",
    "from sklearn.linear_model import LogisticRegression\n",
    "\n",
    "# keras and tensorflow\n",
    "import tensorflow as tf\n",
    "import keras\n",
    "from keras import Sequential\n",
    "from keras import Input\n",
    "from keras.models import Sequential\n",
    "from keras.layers import Embedding, Flatten, Dense\n",
    "from keras.callbacks import EarlyStopping\n",
    "import tensorflow_hub\n",
    "\n",
    "\n",
    "# tracking\n",
    "import mlflow\n",
    "\n",
    "import time"
   ]
  },
  {
   "cell_type": "markdown",
   "id": "6043cf94-1380-40e6-a724-2ac7f8faa844",
   "metadata": {},
   "source": [
    "## 0.4) Création d'un dossier de stockage"
   ]
  },
  {
   "cell_type": "code",
   "execution_count": null,
   "id": "f12ffd43-ee42-4bb6-8a89-5eadc2f4a0ae",
   "metadata": {},
   "outputs": [],
   "source": [
    "# create folder for saving\n",
    "if not os.path.isdir(\"mySaves\"):\n",
    "    os.mkdir(\"mySaves\")"
   ]
  },
  {
   "cell_type": "markdown",
   "id": "b70c567c-b5bc-4fe4-9f53-59d9aff3aebc",
   "metadata": {},
   "source": [
    "# PARTIE 0 - LA DÉMARCHE MLOPS"
   ]
  },
  {
   "cell_type": "markdown",
   "id": "344598b9-f910-4e9b-b35b-3f516dd5f852",
   "metadata": {},
   "source": [
    "## P0.I) Qu'est-ce que le MLOps ?"
   ]
  },
  {
   "cell_type": "markdown",
   "id": "8b726097-388e-4137-b992-a7883708f4d3",
   "metadata": {},
   "source": [
    "**MLOps** est un ensemble de pratiques qui **combine** les techniques de développement logiciel (**DevOps**) et d’apprentissage automatique (**Machine Learning**) pour optimiser et automatiser le cycle de vie de l’apprentissage machine. Le but de MLOps est d’aider les organisations à **construire, déployer et gérer** des modèles d’apprentissage machine en environnement de production **plus efficacement et plus rapidement**. \n",
    "\n",
    "Voici quelques principes clés du MLOps :\n",
    "- Développement du pipeline de traitement des données :\n",
    "    - cela comprend le travail préliminaire de collecte des données, d'exploration, etc.\n",
    "    - nettoyage, traitements, feature engineering, etc\n",
    "- Développement du pipeline de modélisation :\n",
    "    - entraînement de différents modèles, avec différentes combinaisons d'hyperparamètres\n",
    "    - évaluation et sélection du meilleur modèle\n",
    "- Intégration continue du pipeline général :\n",
    "    - utilisation d'une platefrome de développement collaboratif et de gestion de version\n",
    "    - pour travailler sur le code source et suivre ses modifications\n",
    "    - tests unitaires, tests de performance, etc.\n",
    "- Déploiement continue du pipeline général :\n",
    "    - automatisation totale du pipeline\n",
    "    - y compris collecte, préparation, recherche d'hyperparamètres\n",
    "- Tracking :\n",
    "    - utilisation de solutions (comme `MLflow` que nous utiliserons ici) pour faire un suivi automatisé des différents expérimentations conduites avec le pipeline\n",
    "    - enregistrement des paramètres de préparation, du type de modèle, des hyperparamètres et enfin des mesures d'évaluation associées\n",
    "- Enregistrement des modèles :\n",
    "    - chaque version du modèle est consignée\n",
    "    - avec toutes les données/informations ayant servi à la construire\n",
    "- Déploiement continue du modèle\n",
    "    - mettre en place un serveur ou utiliser une plateform cloud\n",
    "    - y installer les dépendances nécessaires pour utiliser le modèle\n",
    "    - créer une API permettant d'accéder au modèle et d'optenir des prédictions\n",
    "- Monitoring :\n",
    "    - suivi des performances du modèle en production\n",
    "    - envoi d'alertes si le modèle n'est plus aussi bon sur les données en temps réel\n",
    "- Entraînement continue :\n",
    "    - en cas de dégradation de la performance (alerte)\n",
    "    - mise à jour du modèle en utilisant le pipeline général automatisé\n",
    "- Gouvernance et Conformité :\n",
    "    - respecter les règlements et exigences relatifs à la confidentialité des données,\n",
    "    - ainsi qu'à la sécurité et à l’utilisation éthique de l’IA\n",
    "- Scalabilité :\n",
    "    - absorber les évolutions de la demande\n",
    "    - système distribué pour permettre les mutations des solutions logiciels et matériels \n",
    "- Collaboration et documentation :\n",
    "    - documenter l'ensemble du cycle de vie du produit IA (le code, la donnée, l'architecture)\n",
    "    - communiquer / évangéliser pour améliorer les performances et détecter les problèmes\n",
    " \n",
    "Pour chacune de ces étapes, des solutions logiciels existent et permettent d'implémenter des projets IA avec une meilleure efficacité ainsi qu'une plus grand fiabilité. Ils ne sont pas tous obligatoires et dépendent des besoins de chaque projet.\n"
   ]
  },
  {
   "cell_type": "markdown",
   "id": "a93166ad-38e7-4d61-81db-3d6ce7a0eeb6",
   "metadata": {},
   "source": [
    "## P0.II) Et pour notre projet ?"
   ]
  },
  {
   "cell_type": "markdown",
   "id": "5a2cb282-4601-4855-8329-619e3166da83",
   "metadata": {},
   "source": [
    "### P0.II.1) Utilisation de `MLFlow`"
   ]
  },
  {
   "cell_type": "markdown",
   "id": "4f42da86-abed-4f97-8dbe-e9e839f41444",
   "metadata": {},
   "source": [
    "Pour réaliser la partie tracking de notre projet, nous utiliserons `MLFlow`."
   ]
  },
  {
   "cell_type": "markdown",
   "id": "8eef8d79-1f39-480d-9d9e-4902edc47d47",
   "metadata": {},
   "source": [
    "#### Qu'est-ce qu'`MLFlow` ?"
   ]
  },
  {
   "cell_type": "markdown",
   "id": "bb692bd1-7e12-4db5-9425-22b707444715",
   "metadata": {},
   "source": [
    "`MLFlow` permet de gérer le cycle de développement des modèles IA :\n",
    "- création d'***experiment*s** dans lesquelles il est possible d'exécuter différents tests sur un même projet de modèle\n",
    "- au sein d'une de ces *experiments*, il est possible d'exécuter différents ***run*s**, permettant de tester différents types de modèle, différents paramètres, différentes préparations de données, etc.\n",
    "- pour chaque *run* il est possible d'effectuer le ***tracking*** :\n",
    "    - des **données** utilisées\n",
    "    - des **paramètres** utilisés\n",
    "    - de **métriques** d'évaluation\n",
    "- pour chaque *run*, il est possible d'enregistrer le **modèle** dans un ***Model Registry***\n",
    "- gestion personnalisée des modèles, avec du **versionning** et avec possibilité de renseigner des *tags* et des *alias* pour une meilleure navigation\n",
    "- **visualisation et comparaison des résultats** via l'ui de `MLFlow` pour sélectionner le meilleur modèle\n",
    "- mise à disposition d'un modèle, et de sa capacité à prédire, dans un environnement de production via des fonctionnalités de **serving**"
   ]
  },
  {
   "cell_type": "markdown",
   "id": "fdb6af14-6ac1-47bb-a0e9-9e77eb6c2456",
   "metadata": {},
   "source": [
    "#### `MLFlow` dans notre cas"
   ]
  },
  {
   "cell_type": "markdown",
   "id": "440c7c09-87e6-41aa-873f-f852dae7e135",
   "metadata": {},
   "source": [
    "Pour notre projet, nous utiliserons MLFlow pour :\n",
    "- tracker les hyperparamètres de nos différents modèles\n",
    "- tracker les métriques\n",
    "- enregistrer les modèles que nous souhaitons conserver\n",
    "- charger le modèle gagnant et faire des prédictions\n",
    "- tester le service de *serving*"
   ]
  },
  {
   "cell_type": "code",
   "execution_count": 36,
   "id": "be1079e1-1ed7-40c5-9066-3d7555589482",
   "metadata": {},
   "outputs": [
    {
     "data": {
      "text/plain": [
       "'file:///c:/Users/cleme/OneDrive/Documents/8.%20TRAVAIL%20CLEMENT/2.3.%20Rec%20Data/1.%20OC/2.%20Projets/2.7%20Detectez%20Bad%20Buzz%20Deep%20Learning/mlruns'"
      ]
     },
     "execution_count": 36,
     "metadata": {},
     "output_type": "execute_result"
    }
   ],
   "source": [
    "mlflow.get_tracking_uri()"
   ]
  },
  {
   "cell_type": "code",
   "execution_count": 37,
   "id": "b379aee8-05f8-45e8-a5f9-36d0c8a8670c",
   "metadata": {},
   "outputs": [],
   "source": [
    "# create experiments\n",
    "if not mlflow.get_experiment_by_name(\"sentiment_analysis\") :\n",
    "    mlflow.create_experiment(\"sentiment_analysis\")"
   ]
  },
  {
   "cell_type": "code",
   "execution_count": 38,
   "id": "e174612e-2ad2-49c2-972d-6bf4c86609aa",
   "metadata": {},
   "outputs": [
    {
     "data": {
      "text/plain": [
       "'931894627455945656'"
      ]
     },
     "execution_count": 38,
     "metadata": {},
     "output_type": "execute_result"
    }
   ],
   "source": [
    "mlflow.get_experiment_by_name(\"sentiment_analysis\").experiment_id"
   ]
  },
  {
   "cell_type": "markdown",
   "id": "b8599d11-4ae9-4cb7-890a-6e85f6264966",
   "metadata": {},
   "source": [
    "### P0.II.2) Utilisation de `GitHub`"
   ]
  },
  {
   "cell_type": "markdown",
   "id": "5dce4945-befc-4ef8-a5e5-bf3f84e9dd86",
   "metadata": {},
   "source": [
    "Nous utiliserons `GitHub` gérer l'intégration de notre code :\n",
    "- création d'un *repository* dédié sur la plateforme\n",
    "- développement en local du projet\n",
    "- création de *commit*s pour synchroniser les changements effectués sur les différents fichiers du projet\n",
    "- mises à jour du *repository* distant"
   ]
  },
  {
   "cell_type": "markdown",
   "id": "4d7ba04f-58bf-439b-9c42-998965a3eece",
   "metadata": {},
   "source": [
    "# PARTIE 1 - NOS DONNÉES"
   ]
  },
  {
   "cell_type": "markdown",
   "id": "a6db0231-920b-4f5b-be4a-77c3f4c5eebc",
   "metadata": {},
   "source": [
    "## P1.I) Charger les données"
   ]
  },
  {
   "cell_type": "markdown",
   "id": "bfb0a7b0-8111-44c7-9628-da691b71c76c",
   "metadata": {},
   "source": [
    "Nous ne disposons pas de données clients *Air Paradis*, nous utilisons donc des données Open Source : https://www.kaggle.com/datasets/kazanova/sentiment140?resource=download\n",
    "\n",
    "Ce dataset comporte les colonnes suivantes :\n",
    "\n",
    "- `target` : la polarité du tweet (0 = négatif, 2 = neutre, 4 = positif). C'est cette information que *Air Paradis* souhaite prédire.\n",
    "- `ids` : l'identifiant du tweet\n",
    "- `date` : la date du tweet\n",
    "- `flag` : La requête. S'il n'y a pas de requête, alors prend la valeur : *NO_QUERY*\n",
    "- `user` : l'utilisateur\n",
    "- `text` : le texte du tweet"
   ]
  },
  {
   "cell_type": "markdown",
   "id": "399dabab-1987-41f8-956a-688019b89969",
   "metadata": {},
   "source": [
    "Pour notre travail nous n'aurons pas besoin de toutes ces colonnes. Nous ne garderons que `target` et `text` : "
   ]
  },
  {
   "cell_type": "code",
   "execution_count": null,
   "id": "26504722-41d6-4ee2-a2ca-26d0c32234fb",
   "metadata": {},
   "outputs": [],
   "source": [
    "# load \"Sentiment140\" tweets dataset\n",
    "rawData = pd.read_csv(\n",
    "    filepath_or_buffer=\"dataset/training.1600000.processed.noemoticon.csv\", \n",
    "    encoding=\"ISO-8859-1\",\n",
    "    usecols=[0,5],\n",
    "    names=[\"target\",\"text\"]\n",
    ")"
   ]
  },
  {
   "cell_type": "code",
   "execution_count": null,
   "id": "16055121-4ef6-4f78-bca2-28ba8ee13bde",
   "metadata": {},
   "outputs": [],
   "source": [
    "rawData"
   ]
  },
  {
   "cell_type": "markdown",
   "id": "dbe2fd9d-2970-4619-9304-f8372afb6ddc",
   "metadata": {},
   "source": [
    "## P1.II) Exploration"
   ]
  },
  {
   "cell_type": "markdown",
   "id": "0bcf6f27-a5d9-48ae-b428-05b1a97ef099",
   "metadata": {},
   "source": [
    "### P1.II.1) Les valeurs manquantes"
   ]
  },
  {
   "cell_type": "code",
   "execution_count": null,
   "id": "d7ad2c3b-f2fc-435e-8e90-23f15dbb3674",
   "metadata": {},
   "outputs": [],
   "source": [
    "# search for missing values\n",
    "rawData.isna().sum()"
   ]
  },
  {
   "cell_type": "markdown",
   "id": "4a457ced-c81c-4ec7-80bb-7bebefb01305",
   "metadata": {},
   "source": [
    "Nous n'avons pas de valeurs manquantes."
   ]
  },
  {
   "cell_type": "markdown",
   "id": "501c65b1-950f-46fa-8554-fb2858bc3d20",
   "metadata": {},
   "source": [
    "### P1.II.2) Les doublons"
   ]
  },
  {
   "cell_type": "code",
   "execution_count": null,
   "id": "2c2da4a0-bf6d-444e-8bb1-a321e1722afd",
   "metadata": {},
   "outputs": [],
   "source": [
    "# search for duplicated tweets\n",
    "# first create a mask\n",
    "mask = rawData[\"text\"].duplicated(keep=False)\n",
    "# filter\n",
    "duplicates = rawData.loc[mask].sort_values(by=\"text\")\n",
    "duplicates"
   ]
  },
  {
   "cell_type": "markdown",
   "id": "00d29437-f1e7-487d-b7ca-0c6294e4ee8c",
   "metadata": {},
   "source": [
    "Nous avons bien des tweets en double, ce qui en soit n'est pas très grâve. Nous voyons par contre un problème sur les deux dernières lignes : le même tweet n'est pas associé au même sentiment ..."
   ]
  },
  {
   "cell_type": "markdown",
   "id": "b4bb92ba-b362-4f56-8edd-dc13e272fb16",
   "metadata": {},
   "source": [
    "Il nous faudra donc :\n",
    "- **supprimer les doublons**\n",
    "- dans le **cas d'incohérence au niveau de la polarité**, supprimer l'**original** **et** les **doublons**"
   ]
  },
  {
   "cell_type": "markdown",
   "id": "73019aea-cbfb-44e5-9491-1a73fcd50cae",
   "metadata": {},
   "source": [
    "### P1.II.3) La `target`"
   ]
  },
  {
   "cell_type": "markdown",
   "id": "486b3d77-8080-4d45-8769-4bc3ceafb945",
   "metadata": {},
   "source": [
    "Nous pouvons regarder la distribution de la target :"
   ]
  },
  {
   "cell_type": "code",
   "execution_count": null,
   "id": "4397bcc9-4577-4f68-8491-ad481cc04810",
   "metadata": {},
   "outputs": [],
   "source": [
    "# plot the distribution of \"target\"\n",
    "sns.countplot(data=rawData,x=\"target\")\n",
    "# add title\n",
    "plt.title(\"Distribution of 'target'\")\n",
    "plt.show()"
   ]
  },
  {
   "cell_type": "markdown",
   "id": "20de50b0-fb42-4978-941b-0bfe65e397b1",
   "metadata": {},
   "source": [
    "Ce que nous pouvons en conclure :\n",
    "- la classe '2=neutral' n'est pas du tout représentée\n",
    "- Nous sommes face à une problème de classification équilibrée"
   ]
  },
  {
   "cell_type": "markdown",
   "id": "1493ccb2-199b-45ea-bbba-de601844ecd0",
   "metadata": {},
   "source": [
    "Afin de revenir à des notations plus typiques, nous allons changer les étiquettes de la `target` :\n",
    "- 0 : tweet positif\n",
    "- 1 : tweet négatif, **classe que l'on cherche à détecter avec précision pour anticiper les bd buzz**"
   ]
  },
  {
   "cell_type": "code",
   "execution_count": null,
   "id": "acb4623e-3f86-4807-bf16-224bbcc0cb07",
   "metadata": {},
   "outputs": [],
   "source": [
    "rawData[\"target\"] = rawData[\"target\"].replace(to_replace={4:0,0:1})"
   ]
  },
  {
   "cell_type": "markdown",
   "id": "48deac0c-4bb3-43d4-8917-c8c7d4231f25",
   "metadata": {},
   "source": [
    "### P1.II.4) Les mots les plus fréquents"
   ]
  },
  {
   "cell_type": "markdown",
   "id": "7b678878-1d3a-46ff-abe3-b15ecb24894f",
   "metadata": {},
   "source": [
    "Créons tout d'abord un `str`  avec tout les corpus :"
   ]
  },
  {
   "cell_type": "code",
   "execution_count": null,
   "id": "454c02cb-15b3-4161-bb2b-0509d61dc0eb",
   "metadata": {},
   "outputs": [],
   "source": [
    "rawCorpus = \"\".join(rawData[\"text\"].values)"
   ]
  },
  {
   "cell_type": "markdown",
   "id": "9c967abd-35bb-4dc0-ba10-8aab996b43b8",
   "metadata": {},
   "source": [
    "Procédons à une première tokenisation simple, en ne gardant que les caractères alphanumériques :"
   ]
  },
  {
   "cell_type": "code",
   "execution_count": null,
   "id": "1534146e-42de-4f96-8225-e1ddf5e256b6",
   "metadata": {},
   "outputs": [],
   "source": [
    "# create a tokenizer using nltk RegexpTokenizer\n",
    "# regex pattern : only alphanumerical\n",
    "tokenizer = nltk.tokenize.RegexpTokenizer(r\"\\w+\")\n",
    "rawTokens = tokenizer.tokenize(rawCorpus)\n",
    "# lower case\n",
    "rawTokens = [token.lower() for token in rawTokens]"
   ]
  },
  {
   "cell_type": "markdown",
   "id": "ef1821ee-f065-4107-ae25-e8f1e9eb5677",
   "metadata": {},
   "source": [
    "Retirons maintenant les *stopwords* (mot-vides) :"
   ]
  },
  {
   "cell_type": "code",
   "execution_count": null,
   "id": "3f621db6-8bec-43c9-9b43-68f13c21afd4",
   "metadata": {},
   "outputs": [],
   "source": [
    "# create a set of stop-words\n",
    "stop_words = set(stopwords.words('english'))\n",
    "# remove them from our tokenized corpus\n",
    "rawTokensNoStop = [token for token in rawTokens if token not in stop_words]"
   ]
  },
  {
   "cell_type": "markdown",
   "id": "20654780-91df-4bd0-ae72-c1bdeb5fc216",
   "metadata": {},
   "source": [
    "Nous pouvons regarder les mots les plus fréquents dans notre corpus :"
   ]
  },
  {
   "cell_type": "code",
   "execution_count": null,
   "id": "e0bc046a-b2f6-400f-bf8f-8b059111d815",
   "metadata": {},
   "outputs": [],
   "source": [
    "# create of folder to save some plots\n",
    "if not os.path.isdir(\"mySaves/plots\"):\n",
    "    os.mkdir(\"mySaves/plots\")"
   ]
  },
  {
   "cell_type": "code",
   "execution_count": null,
   "id": "cfe33b02-f9ea-42b7-92c9-666f5603236a",
   "metadata": {},
   "outputs": [],
   "source": [
    "\n",
    "# number of words to plot\n",
    "N = 50\n",
    "# create figure\n",
    "fig, (axAll,axNoStop) = plt.subplots(nrows=1,ncols=2,figsize = (14,0.2*N))\n",
    "\n",
    "for tokens, ax in zip([rawTokens,rawTokensNoStop],[axAll,axNoStop]) :\n",
    "    # use Counter function to find most common tokens\n",
    "    rawFreq = Counter(tokens)\n",
    "    \n",
    "    # put the most frequent in a dataframe\n",
    "    N = 50\n",
    "    rawFreqDf = pd.DataFrame(rawFreq.most_common(N), columns=[\"token\",\"freq\"])\n",
    "    # store these tokens in an array\n",
    "    top50 = rawFreqDf[\"token\"].values\n",
    "    \n",
    "    # plot\n",
    "    sns.barplot(data=rawFreqDf, x=\"freq\", y=\"token\", ax=ax)\n",
    "\n",
    "# titles\n",
    "fig.suptitle(\"tweets - Most frequent words\")\n",
    "axAll.set_title(\"all tokens\")\n",
    "axNoStop.set_title(\"without stopwords\")\n",
    "\n",
    "plt.show()"
   ]
  },
  {
   "cell_type": "markdown",
   "id": "2743b3a8-5242-4796-b8a4-b0a96fbcf885",
   "metadata": {},
   "source": [
    "Ce que l'on peut en retenir :\n",
    "- Retirer les **stopwords** dépendra de la méthode de modélisation utilisée :\n",
    "    - Notre **modèle simple** sera basée sur une représentation en **bag-of-words**, il sera donc opportun de les gérer\n",
    "    - Notre **modèle avancé** sera basée sur un réseau de neuronnes prenant en compte le context. Les retirer ne serait pas productif (exemple : \"I am not writing a negative tweet\" devient \"writing negative tweet\").\n",
    "- Des tokens associés à des **url** ressortent (\"http\", \"com\"). Il faudra les traiter.\n",
    "- Il y a des **codes HTML** : \"quot\" pour *\"*, \"amp\" pour *&*"
   ]
  },
  {
   "cell_type": "markdown",
   "id": "41d5eb6b-246d-4b86-abc0-f69c4d884fe2",
   "metadata": {},
   "source": [
    "### P1.II.5) Et les mots les plus fréquents en fonction de la `target` ?"
   ]
  },
  {
   "cell_type": "markdown",
   "id": "de8fdbac-b30f-4a70-8009-2b50b8e081ec",
   "metadata": {},
   "source": [
    "On peut regarder ce que cela donne par classe de la `target`, tout d'abord via un `wordcloud` :"
   ]
  },
  {
   "cell_type": "code",
   "execution_count": null,
   "id": "1e7f1443-7481-416a-871d-a6da5c7d1c5c",
   "metadata": {},
   "outputs": [],
   "source": [
    "# filter our dataset on each value of \"target\", then plot a wordcloud of the most frequent words, \n",
    "# number of words to plot\n",
    "N = 50\n",
    "# create figure\n",
    "fig, (axPos, axNeg) = plt.subplots(nrows=1,ncols=2,figsize = (14,8))\n",
    "\n",
    "for pol,ax,name in zip(\n",
    "    [0,1],\n",
    "    [axPos, axNeg],\n",
    "    [\"wordcloudPos.jpg\",\"wordcloudNeg.jpg\"]\n",
    "    ) :\n",
    "    \n",
    "    if name not in os.listdir(\"mySaves/plots\") :\n",
    "    \n",
    "        # filter\n",
    "        rawDataPol = rawData[rawData[\"target\"]==pol]\n",
    "        # create global corpus\n",
    "        rawCorpusPol = \"\".join(rawDataPol[\"text\"].values)\n",
    "        # tokenize\n",
    "        rawTokensPol = tokenizer.tokenize(rawCorpusPol)\n",
    "        # lower case\n",
    "        rawTokensPol = [token.lower() for token in rawTokensPol]\n",
    "        # keep words in top50 list\n",
    "        rawTokensPol = [token for token in rawTokensPol if token in set(top50)]\n",
    "        # use Counter\n",
    "        freqsPol = Counter(rawTokensPol).most_common(N)\n",
    "        # create wordcloud instance\n",
    "        wc = WordCloud(\n",
    "            width = 400,\n",
    "            height = 400,\n",
    "            background_color=\"white\",\n",
    "            colormap=\"cividis\",\n",
    "            random_state=16\n",
    "            )\n",
    "        # fit\n",
    "        wcFitted = wc.fit_words(dict(freqsPol))\n",
    "        # save\n",
    "        wcFitted.to_file(\"mySaves/plots/\"+name)\n",
    "\n",
    "    else :\n",
    "        wcFitted = plt.imread(\"mySaves/plots/\"+name)\n",
    "\n",
    "        \n",
    "    # plot the first N words\n",
    "    ax.imshow(wcFitted)\n",
    "    # remove axis\n",
    "    ax.axis(\"off\")\n",
    "    \n",
    "# titles\n",
    "fig.suptitle(\"tweets - Most frequent words, by sentiment :\")\n",
    "axPos.set_title(\"Positive\")\n",
    "axNeg.set_title(\"Negative\")\n",
    "\n",
    "plt.show()"
   ]
  },
  {
   "cell_type": "markdown",
   "id": "4e69bfb6-39f1-48a8-b42f-489e4b574bd8",
   "metadata": {},
   "source": [
    "Ce n'est pas tout à fait clair, bien que très visuel... Regardons ce que cela donne avec un barplot :"
   ]
  },
  {
   "cell_type": "code",
   "execution_count": null,
   "id": "c29f2ffa-a2ec-4f34-9dd2-073c9b449250",
   "metadata": {},
   "outputs": [],
   "source": [
    "# initiate a count dataframe\n",
    "freqDf = pd.DataFrame(columns=[\"token\",\"freq\",\"target\"])\n",
    "# create figure\n",
    "fig, ax = plt.subplots(nrows=1,ncols=1,figsize = (14,0.3*N))\n",
    "\n",
    "# create palette\n",
    "sentimentPalette = {0:\"green\",1:\"red\"}\n",
    "\n",
    "if \"wordsFreqsByTarget.png\" not in os.listdir(\"mySaves/plots\") :\n",
    "\n",
    "    for pol in [0,1]:\n",
    "           \n",
    "        # filter\n",
    "        rawDataPol = rawData[rawData[\"target\"]==pol]\n",
    "        # create global corpus\n",
    "        rawCorpusPol = \"\".join(rawDataPol[\"text\"].values)\n",
    "        # tokenize\n",
    "        rawTokensPol = tokenizer.tokenize(rawCorpusPol)\n",
    "        # lower case\n",
    "        rawTokensPol = [token.lower() for token in rawTokensPol]\n",
    "        # keep words in top50 list\n",
    "        rawTokensPol = [token for token in rawTokensPol if token in set(top50)]\n",
    "        # use Counter\n",
    "        freqsPol = Counter(rawTokensPol)\n",
    "        # put the most frequent in a dataframe\n",
    "        freqDfPol = pd.DataFrame(freqsPol.most_common(N), columns=[\"token\",\"freq\"])\n",
    "        # add a target column\n",
    "        freqDfPol[\"target\"] = pol\n",
    "        # concat with main df\n",
    "        freqDf = pd.concat([freqDf, freqDfPol])\n",
    "    \n",
    "    # plot\n",
    "    sns.barplot(data=freqDf, x=\"freq\", y=\"token\", hue=\"target\", ax=ax, palette=sentimentPalette, order=top50)\n",
    "    # titles\n",
    "    plt.title(\"tweets - Most frequent words, by sentiment\")\n",
    "    # save figure\n",
    "    fig.savefig(\"mySaves/plots/wordsFreqsByTarget.png\")\n",
    "    \n",
    "    plt.show()\n",
    "\n",
    "else :\n",
    "    im = plt.imread(\"mySaves/plots/wordsFreqsByTarget.png\")\n",
    "    plt.imshow(im)\n",
    "    plt.axis(False)\n",
    "    plt.show()"
   ]
  },
  {
   "cell_type": "markdown",
   "id": "9620a168-7a08-4640-887e-062ecedde3ac",
   "metadata": {},
   "source": [
    "Ce que l'on peut en retenir :\n",
    "- on retrouve des associations **logiques** :\n",
    "    - \"good\", \"love\", \"lol\", \"thanks\", \"great\", \"haha\", \"fun\", etc. plus présents dans les **tweets positifs**\n",
    "    - \"work\", \"miss\", \"need\", \"sad\", \"feel\", etc. plus présents dans les **tweets négatifs**\n",
    "- il semble que les **url** (\"http\", \"com\") ou les **citations** (code HTML \"quot\") soient plus utilisés dans un **contexte positif**"
   ]
  },
  {
   "cell_type": "markdown",
   "id": "723af3be-3b4b-4217-8d63-2cfd33192998",
   "metadata": {},
   "source": [
    "### P1.II.6) La longueur des tweets"
   ]
  },
  {
   "cell_type": "markdown",
   "id": "91204aa1-3dbd-4edb-8e71-7f4078ec40f9",
   "metadata": {},
   "source": [
    "Nous pouvons nous intéresser à la longueur des tweets :"
   ]
  },
  {
   "cell_type": "code",
   "execution_count": null,
   "id": "9d3e5dd7-5b58-4d64-8769-8a4f64e2b464",
   "metadata": {},
   "outputs": [],
   "source": [
    "# create a column with the size of tweets\n",
    "rawData[\"NEW_len_text\"] = rawData[\"text\"].apply(lambda x : len(x))"
   ]
  },
  {
   "cell_type": "markdown",
   "id": "32c8bb27-155a-4cc1-a5a9-3fb624506549",
   "metadata": {},
   "source": [
    "On peut regarder la distribution de `NEW_len_text`, avec ou sans prise en compte de la `target` :"
   ]
  },
  {
   "cell_type": "code",
   "execution_count": null,
   "id": "35f15da1-ccf1-4216-996e-916e961199de",
   "metadata": {},
   "outputs": [],
   "source": [
    "# plot the distribution of tweets lengths\n",
    "\n",
    "# create figure\n",
    "fig, (axBar,axHist) = plt.subplots(\n",
    "    nrows=2,\n",
    "    ncols=1,\n",
    "    figsize=(14,7),\n",
    "    height_ratios=(.25,.75),\n",
    "    sharex=True\n",
    ")\n",
    "# plot histogram\n",
    "sns.histplot(data=rawData, x=\"NEW_len_text\", ax=axHist)\n",
    "# plot box plot with hue on target\n",
    "sns.boxplot(data=rawData, x=\"NEW_len_text\", ax=axBar, hue=\"target\", palette=sentimentPalette)\n",
    "\n",
    "# titles\n",
    "fig.suptitle(\"Distribution of lengths of tweets\")\n",
    "axBar.set_title(\"box plot, by 'target'\")\n",
    "axHist.set_title(\"histogram\")\n",
    "\n",
    "plt.show()"
   ]
  },
  {
   "cell_type": "markdown",
   "id": "d86a43ec-a6c5-457e-85e2-36bf049d4f10",
   "metadata": {},
   "source": [
    "Ce que l'on peut en retenir :\n",
    "- la longueur du tweet ne semble **pas** avoir d'**impact** sur la `target`\n",
    "- la plupart des tweets sont **sous 140 caractères**, ce qui correspond à l'ancienne limite d'avant 2017\n",
    "- il y a des tweets très courts...\n",
    "\n",
    "Regardons à quoi correspondent ces tweets :"
   ]
  },
  {
   "cell_type": "code",
   "execution_count": null,
   "id": "5eea6faa-9974-417a-8ad1-b32dc49f6d7c",
   "metadata": {},
   "outputs": [],
   "source": [
    "# display someof tweets with less than \n",
    "# display some examples of tweets with more than 140 characters\n",
    "for nChars in [0,140,160,180,200] :\n",
    "    # create a filter mask\n",
    "    mask = (rawData[\"NEW_len_text\"] > nChars) &  (rawData[\"NEW_len_text\"] < nChars+20)\n",
    "    # print some examples\n",
    "    print(\"For tweets in [\"+str(nChars)+\", \"+str(nChars+20)+\"] characters :\")\n",
    "    print(\"\")\n",
    "    samp = rawData.loc[mask, \"text\"].sample(10, random_state=16).apply(lambda x : print(\"--> \"+x))\n",
    "    print(\"-\"*30)\n",
    "    print(\"\")"
   ]
  },
  {
   "cell_type": "markdown",
   "id": "f851cc30-8d0d-484d-a991-fc8dddde5e44",
   "metadata": {},
   "source": [
    "Ce que l'on peut en retenir :\n",
    "- Les tweets **courts** sont parfois composés seulement d'une **mention** \"@USER\"...\n",
    "- Il semble que les **dépassements** proviennent :\n",
    "    - des **mentions** \"@USER\" en début de tweet (qui ne comptent pas dans le décompte)\n",
    "    - de **codes HTML** comme `&quot;` ou `&amp;` (qui ne comptent pas dans le décompte)\n",
    "    - de tweets rédigés avec **caractères autres** que ASCII \"imprimables\""
   ]
  },
  {
   "cell_type": "markdown",
   "id": "5090f086-7217-48c2-96ba-9ff6db698388",
   "metadata": {},
   "source": [
    "### P1.II.7) Les tweets contenant seulement une mention"
   ]
  },
  {
   "cell_type": "markdown",
   "id": "0882d51d-2265-484b-bb9d-9d6c2c7af426",
   "metadata": {},
   "source": [
    "Regardons ces tweets :"
   ]
  },
  {
   "cell_type": "code",
   "execution_count": null,
   "id": "52e52367-4052-464d-8f49-569f805bf0e6",
   "metadata": {},
   "outputs": [],
   "source": [
    "test= \"@e_bookpushers @Has_Bookpushers    \"\n",
    "bool(re.search(r'^(@\\w+\\s*)+$', test))"
   ]
  },
  {
   "cell_type": "code",
   "execution_count": null,
   "id": "8bebe093-8746-4dfc-ba2d-eb625933fe9c",
   "metadata": {},
   "outputs": [],
   "source": [
    "# create a mask with tweets cointaining only mentions\n",
    "# (?: ...) for non-capturing groups, to get rid of pandas warning\n",
    "mask = rawData[\"text\"].str.contains(r'^(?:@\\w+\\s*)+$', regex=True)\n",
    "\n",
    "# filter our dataframe\n",
    "onlyMentionsTweets = rawData.loc[mask]\n",
    "# sort by lenth and display\n",
    "display(onlyMentionsTweets.sort_values(\"NEW_len_text\"))"
   ]
  },
  {
   "cell_type": "markdown",
   "id": "f6a31b0c-1feb-4368-88b2-4d9b534bc6dd",
   "metadata": {},
   "source": [
    "Nous pourrons nous en séparer ..."
   ]
  },
  {
   "cell_type": "markdown",
   "id": "5522ffb4-dca8-4f17-84c9-e64e6ca012ac",
   "metadata": {},
   "source": [
    "### P1.II.7) Les tweets contenant des codes ASCII non communs"
   ]
  },
  {
   "cell_type": "markdown",
   "id": "b9abfd4a-b6fa-4898-b3c9-5f3c74f3a0e6",
   "metadata": {},
   "source": [
    "Regardons les tweets contenant au moins un caractère non \"imprimable\" (https://www.ascii-code.com/fr) :"
   ]
  },
  {
   "cell_type": "code",
   "execution_count": null,
   "id": "b3455c92-0802-4f17-983c-2cbb80a0f6eb",
   "metadata": {},
   "outputs": [],
   "source": [
    "# create a mask with tweets cointaining non \"printable\" ASCII codes\n",
    "mask = rawData[\"text\"].str.contains(r\"[^\\u0000-\\u007F]+\")\n",
    "\n",
    "# filter our dataframe\n",
    "nonPrintableTweets = rawData.loc[mask]\n",
    "# sort by lenth and display\n",
    "display(nonPrintableTweets.sort_values(\"NEW_len_text\"))"
   ]
  },
  {
   "cell_type": "markdown",
   "id": "3f5b6c13-3bba-4477-a43e-9eb44053e3fd",
   "metadata": {},
   "source": [
    "On peut afficher la liste des caractères uniques :\n",
    "- pour ces tweets contenant des caractères non \"imprimables\" :"
   ]
  },
  {
   "cell_type": "code",
   "execution_count": null,
   "id": "0a5a539a-5e5d-4280-88c2-0f1aef9ffc5a",
   "metadata": {},
   "outputs": [],
   "source": [
    "# find the unique characters in nonPrintableTweets\n",
    "\n",
    "# first put all tweets in a single string\n",
    "nonPrintableTweetsCorpus = \"\".join(nonPrintableTweets[\"text\"].values)\n",
    "# use set() to catch uniques, then put them in one string\n",
    "lst = list(set(nonPrintableTweetsCorpus))\n",
    "lst.sort()\n",
    "\" \".join(lst)"
   ]
  },
  {
   "cell_type": "markdown",
   "id": "d1ca179d-0135-4489-881c-f0906db81fb6",
   "metadata": {},
   "source": [
    "- pour les tweets \"normaux\" :"
   ]
  },
  {
   "cell_type": "code",
   "execution_count": null,
   "id": "6dba98aa-1ea4-4498-8026-c926d5c4b04a",
   "metadata": {},
   "outputs": [],
   "source": [
    "# find the unique characters in nonPrintableTweets\n",
    "\n",
    "# first apply the opposite of our mask\n",
    "printableTweets = rawData.loc[~mask]\n",
    "# then put all tweets in a single string\n",
    "printableTweetsCorpus = \"\".join(printableTweets[\"text\"].values)\n",
    "# use set() to catch uniques, then put them in one string\n",
    "lst = list(set(printableTweetsCorpus))\n",
    "lst.sort()\n",
    "\" \".join(lst)"
   ]
  },
  {
   "cell_type": "markdown",
   "id": "d2d611c0-36dd-4a34-af55-f044efbcc75e",
   "metadata": {},
   "source": [
    "Nous pourrons **nous séparer des 14538 tweets concernés** par des caractères non \"imprimables\"."
   ]
  },
  {
   "cell_type": "markdown",
   "id": "bf7d3f38-fb25-49a5-92ce-7fefd04bbdc7",
   "metadata": {},
   "source": [
    "### P1.II.8) Les codes HTML caractères spéciaux et les tags"
   ]
  },
  {
   "cell_type": "markdown",
   "id": "01a8d688-ed17-4070-876f-1829a693a298",
   "metadata": {},
   "source": [
    "Recherchons les caractère spéciaux HTML (comme `&quot;` que nous avons repéré auparavant) :"
   ]
  },
  {
   "cell_type": "code",
   "execution_count": null,
   "id": "f83c3f09-9646-42a0-a08a-578c533f1e01",
   "metadata": {},
   "outputs": [],
   "source": [
    "set(mf.findHTML(rawCorpus))"
   ]
  },
  {
   "cell_type": "markdown",
   "id": "6c6b8d6f-bdab-4c44-90e5-c924a188e540",
   "metadata": {},
   "source": [
    "Nous les supprimerons."
   ]
  },
  {
   "cell_type": "markdown",
   "id": "bf3c80bd-e8b0-4778-9323-8c85721936d2",
   "metadata": {},
   "source": [
    "### P1.II.9) Les url"
   ]
  },
  {
   "cell_type": "markdown",
   "id": "5662b171-fa42-42a2-b2b7-7084b3538c50",
   "metadata": {},
   "source": [
    "Recherchons les sites web :"
   ]
  },
  {
   "cell_type": "code",
   "execution_count": null,
   "id": "4b916945-4941-4cf8-8f7a-20406243279a",
   "metadata": {},
   "outputs": [],
   "source": [
    "# use custom function findURL\n",
    "# save the result\n",
    "if \"urls.joblib\" not in os.listdir(\"mySaves/lists\") :\n",
    "    urls = mf.findURL(rawCorpus)\n",
    "    dump(urls, \"mySaves/lists/urls.joblib\")\n",
    "\n",
    "else :\n",
    "    urls = load(\"mySaves/lists/urls.joblib\")"
   ]
  },
  {
   "cell_type": "code",
   "execution_count": null,
   "id": "f9744e82-4c82-4d4c-bb12-23cb4f2681bb",
   "metadata": {},
   "outputs": [],
   "source": [
    "# use custom function plotWordCloud to plot some examples on a wordcloud\n",
    "mf.plotWordCloud(\n",
    "    listOfStrings=urls,\n",
    "    nWordsToPLot=250,\n",
    "    savingFolderAndName = (\"mySaves/plots\", \"urlsWordCloud.jpg\")\n",
    ")"
   ]
  },
  {
   "cell_type": "markdown",
   "id": "bca0d20a-d9ad-4f6c-b37a-78ad676c32c2",
   "metadata": {},
   "source": [
    "Nous les remplacerons par : \"URL\"."
   ]
  },
  {
   "cell_type": "markdown",
   "id": "50d0ae05-3eba-4486-bcff-3c0ede36f4f6",
   "metadata": {},
   "source": [
    "### P1.II.10) Les adresses mail"
   ]
  },
  {
   "cell_type": "code",
   "execution_count": null,
   "id": "fc460f3e-e4c1-4dbb-97f8-6424a55abf5b",
   "metadata": {},
   "outputs": [],
   "source": [
    "# use custom function findEmails\n",
    "# save the result\n",
    "if \"emails.joblib\" not in os.listdir(\"mySaves/lists\") :\n",
    "    emails = mf.findEmails(rawCorpus)\n",
    "    dump(emails, \"mySaves/lists/emails.joblib\")\n",
    "\n",
    "else :\n",
    "    emails = load(\"mySaves/lists/emails.joblib\")"
   ]
  },
  {
   "cell_type": "code",
   "execution_count": null,
   "id": "87daf97c-a6b9-4501-9fe6-e94c4be6bab7",
   "metadata": {},
   "outputs": [],
   "source": [
    "# use custom function plotWordCloud to plot some examples on a wordcloud\n",
    "mf.plotWordCloud(\n",
    "    listOfStrings=emails,\n",
    "    nWordsToPLot=250,\n",
    "    savingFolderAndName = (\"mySaves/plots\", \"emailsWordCloud.jpg\")\n",
    ")"
   ]
  },
  {
   "cell_type": "markdown",
   "id": "64d221e0-ddf1-4aa3-b310-69b8ea9d76b6",
   "metadata": {},
   "source": [
    "Nous les remplacerons par \"EMAIL\"."
   ]
  },
  {
   "cell_type": "markdown",
   "id": "7dc8122b-9357-40f2-b41a-765472084b74",
   "metadata": {},
   "source": [
    "### P1.II.11) Les mots avec caractères répétés"
   ]
  },
  {
   "cell_type": "markdown",
   "id": "f6506750-c980-4497-a43d-d9c5771decc9",
   "metadata": {},
   "source": [
    "Recherchons les mots avec des caractères répétés (comme \"reallllyyyyyyyyyy\") :"
   ]
  },
  {
   "cell_type": "code",
   "execution_count": null,
   "id": "b7f12b3f-df51-4969-95c2-230e25ddcef0",
   "metadata": {},
   "outputs": [],
   "source": [
    "# create of folder to save some lists of words\n",
    "if not os.path.isdir(\"mySaves/lists\"):\n",
    "    os.mkdir(\"mySaves/lists\")"
   ]
  },
  {
   "cell_type": "code",
   "execution_count": null,
   "id": "98893821-4dff-483f-aa35-2e4c1b0e0150",
   "metadata": {},
   "outputs": [],
   "source": [
    "# use custom function findMultipleChars to detect word with repeated chars \n",
    "# save the result\n",
    "if \"repeatedCharsWords.joblib\" not in os.listdir(\"mySaves/lists\") :\n",
    "    repeatedCharsWords = mf.findMultipleChars(rawCorpus,3)\n",
    "    dump(repeatedCharsWords, \"mySaves/lists/repeatedCharsWords.joblib\")\n",
    "\n",
    "else :\n",
    "    repeatedCharsWords = load(\"mySaves/lists/repeatedCharsWords.joblib\")"
   ]
  },
  {
   "cell_type": "code",
   "execution_count": null,
   "id": "5b3ad399-81aa-4659-be58-6e593450b862",
   "metadata": {},
   "outputs": [],
   "source": [
    "# use custom function plotWordCloud to plot some examples on a wordcloud\n",
    "mf.plotWordCloud(\n",
    "    listOfStrings=repeatedCharsWords,\n",
    "    nWordsToPLot=250,\n",
    "    savingFolderAndName = (\"mySaves/plots\", \"repeatedCharsWordCloud.jpg\")\n",
    ")"
   ]
  },
  {
   "cell_type": "markdown",
   "id": "34fea79d-4a98-456a-bbb7-5863aa786665",
   "metadata": {},
   "source": [
    "Nous essaierons de les corriger."
   ]
  },
  {
   "cell_type": "markdown",
   "id": "4dc75623-2200-46c3-b6cb-b944dd281d4e",
   "metadata": {},
   "source": [
    "### P1.II.12) Les contractions"
   ]
  },
  {
   "cell_type": "markdown",
   "id": "7d4d562c-2d6e-4511-904b-bf905fd1f5e6",
   "metadata": {},
   "source": [
    "Recherchons les contractions (comme \"isn't\" ou \"gonna\") :"
   ]
  },
  {
   "cell_type": "markdown",
   "id": "bc5b26a0-a69c-4fda-b15a-b568805d9516",
   "metadata": {},
   "source": [
    "\n",
    "\n",
    "https://www.urbandictionary.com/ <br>\n",
    "https://en.wikipedia.org/wiki/Wikipedia:List_of_English_contractions <br>\n",
    "https://fr.wiktionary.org/wiki/Cat%C3%A9gorie:Contractions_en_anglais"
   ]
  },
  {
   "cell_type": "code",
   "execution_count": null,
   "id": "1b788962-c687-4eff-884b-fdd8ae5b783f",
   "metadata": {},
   "outputs": [],
   "source": [
    "# use custom function findContractions to detect words that are contractions\n",
    "# save the result\n",
    "if \"contractions.joblib\" not in os.listdir(\"mySaves/lists\") :\n",
    "    contractions = mf.findContractions(rawCorpus)\n",
    "    dump(contractions, \"mySaves/lists/contractions.joblib\")\n",
    "\n",
    "else :\n",
    "    contractions = load(\"mySaves/lists/contractions.joblib\")"
   ]
  },
  {
   "cell_type": "code",
   "execution_count": null,
   "id": "1426cc55-af3c-45fa-81b9-6c6f6a7255b8",
   "metadata": {},
   "outputs": [],
   "source": [
    "# use custom function plotWordCloud to plot some examples on a wordcloud\n",
    "mf.plotWordCloud(\n",
    "    listOfStrings=contractions,\n",
    "    nWordsToPLot=250,\n",
    "    savingFolderAndName = (\"mySaves/plots\", \"contractionsWordCloud.jpg\")\n",
    ")"
   ]
  },
  {
   "cell_type": "markdown",
   "id": "7018ef5b-9822-4711-9de3-fd5741344745",
   "metadata": {},
   "source": [
    "Nous essaierons de les corriger."
   ]
  },
  {
   "cell_type": "markdown",
   "id": "b9cae1ef-33c8-46ae-ac58-fa43e665ce86",
   "metadata": {},
   "source": [
    "### P1.II.13) Les séquences d'échappement"
   ]
  },
  {
   "cell_type": "markdown",
   "id": "dec548a9-c4e7-46a2-9719-1457388e54f9",
   "metadata": {},
   "source": [
    "Recherchons les séquences d'échappement (comme `\\n` pour une nouvelle ligne)"
   ]
  },
  {
   "cell_type": "code",
   "execution_count": null,
   "id": "91588220-6203-409e-a460-4e41eb4f179a",
   "metadata": {},
   "outputs": [],
   "source": [
    "# use custom function findEscapeSequences\n",
    "# save the result\n",
    "if \"escapes.joblib\" not in os.listdir(\"mySaves/lists\") :\n",
    "    escapes = mf.findEscapeSequences(rawCorpus)\n",
    "    dump(escapes, \"mySaves/lists/escapes.joblib\")\n",
    "\n",
    "else :\n",
    "    escapes = load(\"mySaves/lists/escapes.joblib\")"
   ]
  },
  {
   "cell_type": "code",
   "execution_count": null,
   "id": "77afaad3-70b2-4ac7-b6e6-0d11b2bd9d97",
   "metadata": {},
   "outputs": [],
   "source": [
    "set(escapes)"
   ]
  },
  {
   "cell_type": "markdown",
   "id": "96150b0f-bebd-4581-a0c3-b89486f5ba60",
   "metadata": {},
   "source": [
    "Nous n'avons trouvé que la tabulation et la barre oblique inverse littérale. Nous les supprimerons."
   ]
  },
  {
   "cell_type": "markdown",
   "id": "32de7199-0932-4123-a5ba-5504fbb6419b",
   "metadata": {},
   "source": [
    "### P1.II.14) Les emoticons"
   ]
  },
  {
   "cell_type": "markdown",
   "id": "30179d7a-4257-4d41-b323-e385b2f79dcf",
   "metadata": {},
   "source": [
    "Recherchons les emoticons :"
   ]
  },
  {
   "cell_type": "markdown",
   "id": "f31c83b1-4cd8-41cf-a4ef-256ce0e16bc3",
   "metadata": {},
   "source": [
    "https://en.wikipedia.org/wiki/List_of_emoticons"
   ]
  },
  {
   "cell_type": "code",
   "execution_count": null,
   "id": "93b6e08c-88e8-4db6-aa9c-b58ec14e77e0",
   "metadata": {},
   "outputs": [],
   "source": [
    "# use custom function findEmoticons\n",
    "# save the result\n",
    "if \"emoticons.joblib\" not in os.listdir(\"mySaves/lists\") :\n",
    "    emoticons = mf.findEmoticons(rawCorpus)\n",
    "    dump(emoticons, \"mySaves/lists/emoticons.joblib\")\n",
    "\n",
    "else :\n",
    "    emoticons = load(\"mySaves/lists/emoticons.joblib\")"
   ]
  },
  {
   "cell_type": "code",
   "execution_count": null,
   "id": "b4769180-4695-4bdd-a43b-a6cad17e6758",
   "metadata": {},
   "outputs": [],
   "source": [
    "# use custom function plotWordCloud to plot some examples on a wordcloud\n",
    "mf.plotWordCloud(\n",
    "    listOfStrings=emoticons,\n",
    "    nWordsToPLot=250,\n",
    "    savingFolderAndName = (\"mySaves/plots\", \"emoticonsWordCloud.jpg\")\n",
    ")"
   ]
  },
  {
   "cell_type": "markdown",
   "id": "7eed0bb9-6508-4249-92dc-d1847e15fd16",
   "metadata": {},
   "source": [
    "Nous les remplacerons par leur signification."
   ]
  },
  {
   "cell_type": "markdown",
   "id": "743bfdbb-30cf-4298-8ae5-448a1a6f891f",
   "metadata": {},
   "source": [
    "### P1.II.15) Les '#'"
   ]
  },
  {
   "cell_type": "code",
   "execution_count": null,
   "id": "610841e2-4aca-4c6a-9d7a-e2baf81cdaf7",
   "metadata": {},
   "outputs": [],
   "source": [
    "# use custom function findHashtags\n",
    "# save the result\n",
    "if \"hashtags.joblib\" not in os.listdir(\"mySaves/lists\") :\n",
    "    hashtags = mf.findHashtags(rawCorpus)\n",
    "    dump(hashtags, \"mySaves/lists/hashtags.joblib\")\n",
    "\n",
    "else :\n",
    "    hashtags = load(\"mySaves/lists/hashtags.joblib\")"
   ]
  },
  {
   "cell_type": "code",
   "execution_count": null,
   "id": "285ddd39-a3cd-4d9b-a0b2-b7a3778a68e6",
   "metadata": {},
   "outputs": [],
   "source": [
    "# use custom function plotWordCloud to plot some examples on a wordcloud\n",
    "mf.plotWordCloud(\n",
    "    listOfStrings=hashtags,\n",
    "    nWordsToPLot=250,\n",
    "    savingFolderAndName = (\"mySaves/plots\", \"hashtagsWordCloud.jpg\")\n",
    ")"
   ]
  },
  {
   "cell_type": "markdown",
   "id": "ccac7f61-ff60-4e04-89dd-86aab5bf4a0a",
   "metadata": {},
   "source": [
    "Nous les traiterons :\n",
    "- soit en les supprimant\n",
    "- soit en retirant juste le #"
   ]
  },
  {
   "cell_type": "markdown",
   "id": "3df370ed-0d1a-4574-8e57-f40e0fcecb2c",
   "metadata": {},
   "source": [
    "### P1.II.16) Les mentions '@'"
   ]
  },
  {
   "cell_type": "code",
   "execution_count": null,
   "id": "8a8c02f4-3c64-43b3-a001-69677b8f9e72",
   "metadata": {},
   "outputs": [],
   "source": [
    "# use custom function findMentions\n",
    "# save the result\n",
    "if \"mentions.joblib\" not in os.listdir(\"mySaves/lists\") :\n",
    "    mentions = mf.findMentions(rawCorpus)\n",
    "    dump(mentions, \"mySaves/lists/mentions.joblib\")\n",
    "\n",
    "else :\n",
    "    mentions = load(\"mySaves/lists/mentions.joblib\")"
   ]
  },
  {
   "cell_type": "code",
   "execution_count": null,
   "id": "bed77786-37e8-476a-83ea-d2ab48f64df9",
   "metadata": {},
   "outputs": [],
   "source": [
    "mf.findMentions(\"lrhgurghg eljsghmojr @esklnbgfes @esklnbgfes@esklnbgfes kesf@gmail.com\")"
   ]
  },
  {
   "cell_type": "code",
   "execution_count": null,
   "id": "530cb326-7283-4466-bbd8-d8434825fbc3",
   "metadata": {},
   "outputs": [],
   "source": [
    "# use custom function plotWordCloud to plot some examples on a wordcloud\n",
    "mf.plotWordCloud(\n",
    "    listOfStrings=mentions,\n",
    "    nWordsToPLot=250,\n",
    "    savingFolderAndName = (\"mySaves/plots\", \"mentionsWordCloud.jpg\")\n",
    ")"
   ]
  },
  {
   "cell_type": "markdown",
   "id": "8658e6ba-e37a-4554-a33b-004920ee0f5b",
   "metadata": {},
   "source": [
    "# PARTIE 2 - PREPROCESSING"
   ]
  },
  {
   "cell_type": "markdown",
   "id": "9a132e72-f8d6-4356-9025-e40a56284222",
   "metadata": {},
   "source": [
    "Pour le preprocessing, nous avons plusieurs cas :\n",
    "- les opérations générales pouvant être appliquées aussi bien pour notre modèle simple (basé sur une vectorisation de type bag-of-words) que pour notre modèle avancé (basé sur une vectorisation de type word embedding)\n",
    "- les opérations plus spécifiques à un modèle\n",
    "\n",
    "Nous avons donc créé plusieurs fonctions."
   ]
  },
  {
   "cell_type": "markdown",
   "id": "d87c869d-1bc3-4678-b810-813c02e8c097",
   "metadata": {},
   "source": [
    "## P2.I) Chargement de données cohérentes"
   ]
  },
  {
   "cell_type": "markdown",
   "id": "203a2835-2c57-46c8-984d-94148c9215a9",
   "metadata": {},
   "source": [
    "Nous allons tout d'abord charger nos données avec une fonction dédiée. Cette fonction permet également :\n",
    "- d'échantillonner nos données pour réduire sa taille (pour faire des tests par exemple), tout en conservant l'équilibre de classe\n",
    "- de retirer :\n",
    "    - les observations dupliquées où la \"target\" n'est pas unique (incohérence)\n",
    "    - les observations doublons classiques\n",
    "    - les observations ne contenant que des mentions \"@USER\"\n",
    "    - les observations où le tweet contient des caractères ASCII non \"imprimables\""
   ]
  },
  {
   "cell_type": "code",
   "execution_count": 8,
   "id": "35ce26ee-56ed-417c-b93b-a7c3820cba05",
   "metadata": {},
   "outputs": [],
   "source": [
    "# use custom function to load the dataset, just with 10000 tweets\n",
    "X, y = mf.loadTweetsAndFilter(\n",
    "    tweetsPath = \"dataset/training.1600000.processed.noemoticon.csv\",\n",
    "    nSamples = 20000,\n",
    "    random_state=16\n",
    ")"
   ]
  },
  {
   "cell_type": "markdown",
   "id": "14062d08-dc14-42b7-85d4-c5ce00552d6b",
   "metadata": {},
   "source": [
    "Vérifions que l'équilibre des classes est conservé :"
   ]
  },
  {
   "cell_type": "code",
   "execution_count": null,
   "id": "4e5ea5a4-2363-45f3-9ecf-e3451611a081",
   "metadata": {},
   "outputs": [],
   "source": [
    "# number of uniques values for y\n",
    "y.value_counts()"
   ]
  },
  {
   "cell_type": "markdown",
   "id": "97f52ccc-408a-4ea9-bf26-af7d2def80da",
   "metadata": {},
   "source": [
    "## P2.III) Nettoyage commun"
   ]
  },
  {
   "cell_type": "markdown",
   "id": "e4bb5b9e-6bfb-494e-aab0-5310d3b0509c",
   "metadata": {},
   "source": [
    "Les opérations suivantes pourront être réalisées quelque soit le modèle :\n",
    "- mettre en minuscule (optionnable)\n",
    "- retirer les codes HTML correspondants à des caractères spéciaux\n",
    "- remplacer (par \"url\" par exemple) les liens hypertextes\n",
    "- remplacer (par \"mail\" par exemple) les adresses mails\n",
    "- retirer les séquences d'échappement\n",
    "- corriger les mots avec 3+ lettres répétées\n",
    "- corriger les contractions\n",
    "- remplacer les emoticons avec leur sens\n",
    "- remplacer (par \"hashtag\" par exemple) les #xxxx\n",
    "- remplacer (par \"mention\" par exemple) les @xxxx\n",
    "- enfin appliquer les méthode `strip`"
   ]
  },
  {
   "cell_type": "markdown",
   "id": "58bf9d8c-1e14-4057-b8de-f4dacfc2c68a",
   "metadata": {},
   "source": [
    "Nota : nous avons réalisé quelques essais sur ces différentes opérations. Tout d'abord pour tester la fonction `replaceSTH` :"
   ]
  },
  {
   "cell_type": "code",
   "execution_count": null,
   "id": "26aa8867-0a67-439d-92d3-26a820638b3b",
   "metadata": {},
   "outputs": [],
   "source": [
    "# simple function to test different patterns with custom function replaceSTH\n",
    "def testPattern(findf, pattern, textSeries) :\n",
    "    '''\n",
    "    given a custom \"find\" function and the corresponding pattern :\n",
    "        - find all unique matches\n",
    "        - apply replaceSTH with the pattern and \"replace=''\" (no replacement, removal)\n",
    "        - again, find all unique matches (should be none)\n",
    "    '''\n",
    "    print(\"after replacement :\")\n",
    "    display(set(findf(\" \".join(mf.replaceSTH(textSeries, pattern, replace=\" \").values))))\n",
    "\n",
    "# use it for each pattern\n",
    "for func, pattern, name in zip(\n",
    "    [mf.findHTML, mf.findURL, mf.findEmails, mf.findEscapeSequences, mf.findHashtags, mf.findMentions],\n",
    "    [r'([&]{1}[\\w\\d#]+;)|(<[^>]*>)', r'(https?:[^\\s]+)|(www\\.[^\\s]+)', \n",
    "     r'([a-zA-Z0-9._%-]+[a-zA-Z0-9]@([a-zA-Z0-9-]+[a-zA-Z0-9])+\\.(([a-z]{2,})|([A-Z]{2,})))', r'[\\n]|[\\r]|[\\a]|[\\b]|[\\\\]|[\\f]|[\\t]|[\\v]',\n",
    "     r'(^#\\w+|\\s#\\w+)(#\\w+)*', r'(^@\\w+|\\s@\\w+)(@\\w+)*'\n",
    "    ],\n",
    "    [\"HTML tags or codes\", \"URLs\", \"email adresses\", \"escape sequences\", \"hashtags\", \"mentions\"]\n",
    ") :\n",
    "    print(\"--\",name,\"--\")\n",
    "    testPattern(func, pattern, textSeries = X)\n",
    "    print(\"-\"*30)"
   ]
  },
  {
   "cell_type": "markdown",
   "id": "ab04e377-b6d8-4f48-9ef2-6d775726f9d6",
   "metadata": {},
   "source": [
    "Puis nous avons tester la fonction `correctRepeatedChars_series` :"
   ]
  },
  {
   "cell_type": "code",
   "execution_count": null,
   "id": "45f4afdb-8221-4233-8b00-57baa1bdc9ca",
   "metadata": {},
   "outputs": [],
   "source": [
    "# testing the custom function correctRepeatedChars_series\n",
    "samples = X.sample(1000,random_state=16).str.lower()\n",
    "print(\"before :\")\n",
    "display(set(mf.findMultipleChars(\" \".join(samples.values),3)))\n",
    "print(\"after :\")\n",
    "display(set(mf.findMultipleChars(\" \".join(mf.correctRepeatedChars_series(samples).str.lower().values),3)))"
   ]
  },
  {
   "cell_type": "markdown",
   "id": "fd6e15dc-e852-4dca-a0bd-bc7a15a9da59",
   "metadata": {},
   "source": [
    "Il reste quelques mots non corrigés, mais cela reste minime. Les \"www\" devraient de plus être supprimés lors du traitement des liens hypertextes."
   ]
  },
  {
   "cell_type": "markdown",
   "id": "dd69e7bb-49b4-4de0-ae34-ba85fa6ac847",
   "metadata": {},
   "source": [
    "Puis nous avons tester la fonction `correctContractions` :"
   ]
  },
  {
   "cell_type": "code",
   "execution_count": null,
   "id": "0882efa2-0f99-4bcd-94b2-d35b1b2eef33",
   "metadata": {},
   "outputs": [],
   "source": [
    "# testing the custom function correctContractions\n",
    "print(\"before :\")\n",
    "display(set(mf.findContractions(\" \".join(samples.values))))\n",
    "print(\"after :\")\n",
    "display(set(mf.findContractions(\" \".join(mf.correctContractions(samples).values))))"
   ]
  },
  {
   "cell_type": "markdown",
   "id": "3f074b6e-a37d-465c-9827-3182ba26029b",
   "metadata": {},
   "source": [
    "Nous pouvons maintenant utiliser la fonction globale `generalCleaner` :"
   ]
  },
  {
   "cell_type": "code",
   "execution_count": null,
   "id": "14022aa0-3ed3-4b90-95d1-225f34ac6d55",
   "metadata": {},
   "outputs": [],
   "source": [
    "%%time\n",
    "X_general = mf.generalClean(X, url = \"url\", email = \"email\", hashtag = \"hashtag\", mention = \"mention\")"
   ]
  },
  {
   "cell_type": "code",
   "execution_count": null,
   "id": "01808e56-fc2b-4841-a4ce-008d02253797",
   "metadata": {},
   "outputs": [],
   "source": [
    "X_general"
   ]
  },
  {
   "cell_type": "markdown",
   "id": "45934911-3430-4f9a-b35e-b4079bfcd8ea",
   "metadata": {},
   "source": [
    "## P2.IV) Nettoyage pour le modèle simple"
   ]
  },
  {
   "cell_type": "markdown",
   "id": "3ef0600a-4c0e-4c4b-8a36-2d857bae81e5",
   "metadata": {},
   "source": [
    "Les opérations suivantes pourront être réalisées préalablement au modèle simple :\n",
    "- mettre en minuscule (si ce n'est pas déjà fait)\n",
    "- retirer les stopwords\n",
    "- retirer d'éventuels stopwords personnalisés\n",
    "- retirer la ponctuation\n",
    "- retirer les espaces en trop\n",
    "- retirer les nombres et affiliés (exemple : \"nine\")\n",
    "- filtrer sur les Part-of-Speech tags (exemple : ne garder que les adjectifs)\n",
    "- normaliser via stemmatisation ou lemmatisation"
   ]
  },
  {
   "cell_type": "markdown",
   "id": "1ae43ea9-f89c-4a63-82b7-22d48ca69a03",
   "metadata": {},
   "source": [
    "Pour cela nous avons créé une fonction : `simpleModelClean`. \n",
    "\n",
    "Nous pouvons du coup regarder ce que cela donne en :\n",
    "- conservant les noms, adjectifs et verbes\n",
    "- appliquant une lemmatisation"
   ]
  },
  {
   "cell_type": "code",
   "execution_count": null,
   "id": "d830e66d-1212-4951-a103-28ff879426cd",
   "metadata": {},
   "outputs": [],
   "source": [
    "%%time\n",
    "X_simple_lem = mf.simpleModelClean(X_general, customStopWords = [], posToKeep = [\"NOUN\",\"ADJ\",\"VERB\"], normalization = \"lem\")"
   ]
  },
  {
   "cell_type": "code",
   "execution_count": null,
   "id": "dce1b35b-ba73-48a3-bf09-19c393409d91",
   "metadata": {},
   "outputs": [],
   "source": [
    "X_simple_lem"
   ]
  },
  {
   "cell_type": "markdown",
   "id": "be8a98bf-efb1-4dfd-a9e0-d33b94d3dc2d",
   "metadata": {},
   "source": [
    "Maintenant en :\n",
    "- conservant seuelement les adjectifs et les verbes\n",
    "- appliquant une stemmatisation"
   ]
  },
  {
   "cell_type": "code",
   "execution_count": null,
   "id": "865f1c71-6bfa-4ffd-be50-ed76eaaad20b",
   "metadata": {},
   "outputs": [],
   "source": [
    "%%time\n",
    "X_simple_stem = mf.simpleModelClean(X_general, customStopWords = [], posToKeep = [\"ADJ\",\"VERB\"], normalization = \"stem\")"
   ]
  },
  {
   "cell_type": "code",
   "execution_count": null,
   "id": "920148ae-7ac1-4f4d-adfb-b176bc3519f3",
   "metadata": {},
   "outputs": [],
   "source": [
    "X_simple_stem"
   ]
  },
  {
   "cell_type": "markdown",
   "id": "9907de46-c3b9-409c-9086-a9c6d1388da6",
   "metadata": {},
   "source": [
    "## P2.V) Nettoyage pour le modèle avancé"
   ]
  },
  {
   "cell_type": "markdown",
   "id": "dd3b22d7-e36e-4e82-bdd5-24c64b629be3",
   "metadata": {},
   "source": [
    "Les opérations suivantes pourront être réalisées préalablement au modèle avancé :\n",
    "- mettre en minuscule (si ce n'est pas déjà fait)\n",
    "- retirer la ponctuation\n",
    "- retirer les espaces en trop\n",
    "- normaliser via stemmatisation ou lemmatisation\n",
    "\n",
    "Ces opérations sont plus légères que pour le modèle simple, car nous utiliserons pour le modèle avancé un *LSTM*, un réseau de neurones récurrents capable de prendre en compte les **relations de dépendance entre les éléments successifs d'une séquence**. Il est donc par exemple important de conserver les stop words car le réseau sera capable de détecter la différence entre *happy* et *not happy*."
   ]
  },
  {
   "cell_type": "code",
   "execution_count": null,
   "id": "a06ccce8-9716-4625-8053-0f95e390cd41",
   "metadata": {},
   "outputs": [],
   "source": [
    "%%time\n",
    "X_advanced_lem = mf.advancedModelClean(X_general, normalization = \"lem\")"
   ]
  },
  {
   "cell_type": "code",
   "execution_count": null,
   "id": "4cfb1670-588a-45e6-9492-212e5bcf36c9",
   "metadata": {},
   "outputs": [],
   "source": [
    "X_advanced_lem"
   ]
  },
  {
   "cell_type": "code",
   "execution_count": null,
   "id": "0dacae9f-0983-47e2-85d1-3873e8c31e84",
   "metadata": {},
   "outputs": [],
   "source": [
    "%%time\n",
    "X_advanced_stem = mf.advancedModelClean(X_general, normalization = \"stem\")"
   ]
  },
  {
   "cell_type": "code",
   "execution_count": null,
   "id": "bc7e4067-946c-4790-aef5-809521cc9a86",
   "metadata": {},
   "outputs": [],
   "source": [
    "X_advanced_stem"
   ]
  },
  {
   "cell_type": "markdown",
   "id": "f0fa989b-d718-442e-b514-8a94679dc0b3",
   "metadata": {},
   "source": [
    "# PARTIE 3 - SÉPARATION DES DONNÉES - PRÉPARATION VALIDATION CROISÉE"
   ]
  },
  {
   "cell_type": "markdown",
   "id": "59fa72ca-6740-4145-bcc0-f2c1843b1c80",
   "metadata": {},
   "source": [
    "Avant d'entraîner nos modèles, nous allons séparer nos données en **un jeu d'entraînement et un jeu de test**, l'un qui nous servira à entraîner et optimiser différents modèles, l'autre pour faire des tests sur des données totalement inconnues, comparer le modèle simple et le modèle avancé, ou encore expliquer nos prédictions."
   ]
  },
  {
   "cell_type": "markdown",
   "id": "67eae8f7-e4b4-4c41-b966-813206be0ef4",
   "metadata": {},
   "source": [
    "Nous allons effectuer cette séparation aussi bien sur `X` que sur `X_general` (**dans cette phase de développement, nous cherchons à optimiser les temps de calcul : nous ne souhaitons donc pas effectuer le nettoyage général à chaque essai sur des opération ultérieures à celui-ci**)."
   ]
  },
  {
   "cell_type": "code",
   "execution_count": 9,
   "id": "8c827953-7910-404f-a2b9-f3bec9c3e90f",
   "metadata": {},
   "outputs": [
    {
     "ename": "NameError",
     "evalue": "name 'X_general' is not defined",
     "output_type": "error",
     "traceback": [
      "\u001b[1;31m---------------------------------------------------------------------------\u001b[0m",
      "\u001b[1;31mNameError\u001b[0m                                 Traceback (most recent call last)",
      "Cell \u001b[1;32mIn[9], line 5\u001b[0m\n\u001b[0;32m      3\u001b[0m X_train, X_test, y_train, y_test \u001b[38;5;241m=\u001b[39m train_test_split(X, y, test_size\u001b[38;5;241m=\u001b[39m\u001b[38;5;241m0.1\u001b[39m, random_state\u001b[38;5;241m=\u001b[39m\u001b[38;5;241m16\u001b[39m)\n\u001b[0;32m      4\u001b[0m \u001b[38;5;66;03m# on X_general, same random_state\u001b[39;00m\n\u001b[1;32m----> 5\u001b[0m X_gen_train, X_gen_test, y_train, y_test \u001b[38;5;241m=\u001b[39m train_test_split(\u001b[43mX_general\u001b[49m, y, test_size\u001b[38;5;241m=\u001b[39m\u001b[38;5;241m0.1\u001b[39m, random_state\u001b[38;5;241m=\u001b[39m\u001b[38;5;241m16\u001b[39m)\n",
      "\u001b[1;31mNameError\u001b[0m: name 'X_general' is not defined"
     ]
    }
   ],
   "source": [
    "# split between train and test\n",
    "# on X\n",
    "X_train, X_test, y_train, y_test = train_test_split(X, y, test_size=0.1, random_state=16)\n",
    "# on X_general, same random_state\n",
    "X_gen_train, X_gen_test, y_train, y_test = train_test_split(X_general, y, test_size=0.1, random_state=16)"
   ]
  },
  {
   "cell_type": "markdown",
   "id": "f1bf409b-8a6c-4a9f-a680-080d66d29e49",
   "metadata": {},
   "source": [
    "Afin de comparer différents modèles, ou encore différentes versions d'un même modèle entraîné avec des hyperparamètres différents, nous utiliserons la **validation croisée**. Pour limiter les temps de calcul, nous nous contenterons de 3 *folds* :"
   ]
  },
  {
   "cell_type": "code",
   "execution_count": null,
   "id": "968108bd-0503-47f2-ac21-ebb364b024fc",
   "metadata": {},
   "outputs": [],
   "source": [
    "# create a KFold cross-validator\n",
    "kf = KFold(n_splits=3, shuffle=True, random_state=16)"
   ]
  },
  {
   "cell_type": "markdown",
   "id": "199ec514-72bd-490e-96a8-beaae8fe950a",
   "metadata": {},
   "source": [
    "# PARTIE 4 - MODELE SIMPLE"
   ]
  },
  {
   "cell_type": "markdown",
   "id": "ff35de28-62c9-4555-84d1-cbac020d18aa",
   "metadata": {},
   "source": [
    "## P4.I) Création d'un pipeline d'apprentissage pour le modèle simple"
   ]
  },
  {
   "cell_type": "markdown",
   "id": "0a1c4ac7-f0fa-4c91-9831-4f624b0bf5d9",
   "metadata": {},
   "source": [
    "### P4.I.1) Pour l'optimisation et le choix du modèle - validation croisée"
   ]
  },
  {
   "cell_type": "markdown",
   "id": "c7235716-b7e8-40cf-b99e-7f493a29e515",
   "metadata": {},
   "source": [
    "Pour le modèle simple, nous avons créé une fonction `simplePipeCV` permettant de :\n",
    "- créer un **pipeline d'apprentissage** pour un modèle scikit learn (`model`, `model_name`) avec certains paramètres (`params` et `fit_params`)\n",
    "- **entraîner le modèle en validation croisée** sur des tweets, Series de strings (`X`), et des valeurs de target (`y`)\n",
    "- intégrer ce pipeline dans une **expérimentation *MLflow*** (`experiment_name`)\n",
    "- **évaluer** le modèle sur la base d'une **validation croisée** (`kf`), et *logger* les métriques :\n",
    "    - *ROC AUC*\n",
    "    - *Accuracy*\n",
    "- tracer un **ROC curve** et une **Precision Recall curve** et *logger* la figure\n",
    "- ré-entraîner le model sur **toutes les données** :\n",
    "    - *logger* le **modèle**\n",
    "    - *logger* le **temps d'apprentissage**\n",
    " \n",
    "L'objectif est d'**utiliser ce pipeline pour optimiser le modèle simple**."
   ]
  },
  {
   "cell_type": "markdown",
   "id": "f7ad95e9-3a9c-4758-a08e-e69ff4b5fda3",
   "metadata": {},
   "source": [
    "### P4.I.2) Pour le test"
   ]
  },
  {
   "cell_type": "markdown",
   "id": "1569f8ff-93a4-47c1-ab8a-c4b8efe84b1f",
   "metadata": {},
   "source": [
    "Pour le modèle simple, nous avons créé une fonction `simplePipeTest` permettant de :\n",
    "- créer un **pipeline d'apprentissage** pour un modèle scikit learn (`model`, `model_name`) avec certains paramètres (`params` et `fit_params`)\n",
    "- **entraîner le modèle** sur des tweets, Series de strings (`X_train`), et des valeurs de target (`y_train`)\n",
    "- intégrer ce pipeline dans une **expérimentation *MLflow*** (`experiment_name`)\n",
    "- **évaluer** le modèle sur la base de données test (`X_test` et `y_test`), et *logger* les métriques :\n",
    "    - *ROC AUC*\n",
    "    - *Accuracy*\n",
    "- tracer un **ROC curve** et une **Precision Recall curve** et *logger* la figure\n",
    "- ré-entraîner le model sur **toutes les données** :\n",
    "    - *logger* le **modèle**\n",
    "    - *logger* le **temps d'apprentissage**\n",
    " \n",
    "L'objectif est d'**utiliser ce pipeline pour le modèle simple final**."
   ]
  },
  {
   "cell_type": "markdown",
   "id": "3e877af4-ac77-4bc7-b052-7fc203150f20",
   "metadata": {},
   "source": [
    "## P4.II) Quel modèle pour ce pipeline ?"
   ]
  },
  {
   "cell_type": "markdown",
   "id": "bf97676d-ab93-4402-ac44-f62ba9ac134b",
   "metadata": {},
   "source": [
    "### P4.II.1) Modèle de classification"
   ]
  },
  {
   "cell_type": "markdown",
   "id": "ad822601-2b98-4cbf-aa0a-825f5d8941f4",
   "metadata": {},
   "source": [
    "Pour le modèle simple nous utiliserons un modèle de classification linéaire : la **régression logistique**."
   ]
  },
  {
   "cell_type": "markdown",
   "id": "998a10b5-1769-457e-932e-428c2023aa20",
   "metadata": {},
   "source": [
    "### P4.II.2) Vectorisation"
   ]
  },
  {
   "cell_type": "markdown",
   "id": "50e9ce8c-7fe2-4338-8aee-58dd2e5bb7db",
   "metadata": {},
   "source": [
    "Mais ce modèle nécessite des features numériques en entrées : nous allons **représenter notre corpus de façon numérique** en attribuant à chaque document un vecteur de type **Bag-of-Words**, basé sur le nombre d'occurences des mots.\n",
    "\n",
    "Il existe plusieurs méthodes de vectorisation Bag-of-Words, ici nous allons utiliser la fréquence des mots à l'échelle des documents, **mais aussi à l'échelle du corpus**, afin de **réduire l'impact des mots trop fréquents** : En effet un mot présent dans tous les document n'apportera que peu d'information par rapport aux mots plus rares pour différencier les documents.\n",
    "\n",
    "Nous allons donc appliquer une **pondération** à chaque mot en utilisant le *TF-IDF* (*Term Frequency - Inverse Document Frequency*) :\n",
    "$tfidf = TermFrequency \\times InverseDocumentFrequency$<br>\n",
    "- Il existe plusieurs manières de calculer $TF$, ici nous prendrons le **nombre d'occurrences du mot dans le document**\n",
    "- Pour $IDF$, il y aussi plusieurs manières, nous utiliserons ici la formule suivante : $IDF = log(\\frac{N_{docs}+1}{DF+1})+1$\n",
    "  <br>(le $log$ permet d'atténuer l'impact des mots présents dans vraiment peu de documents, et le $+1$ simule l'ajout d'un document contenant tous les mots, permettant d'éviter les divisions par zéro)\n",
    "\n",
    "Une **normalisation *l2*** est enfin appliquée à chaque vecteur document.\n"
   ]
  },
  {
   "cell_type": "markdown",
   "id": "da7d5582-e0b3-4322-97d4-b08fb731dc65",
   "metadata": {},
   "source": [
    "### P4.II.3) Nettoyage"
   ]
  },
  {
   "cell_type": "markdown",
   "id": "ebd56caf-722f-47a5-b30e-7d39d65380da",
   "metadata": {},
   "source": [
    "Nous allons pouvoir tester différentes méthodes de nettoyage **via notre fonction `simpleModelClean`** qui permet notamment d'appliquer différentes méthodes de normalisation (*stemmatisation* ou *lemmatisation*), ou de filtrer suivant les *part-of-speech*, etc.\n",
    "\n",
    "Afin de pouvoir l'intégrer dans un `Pipeline` *Scikit Learn*, nous avons :\n",
    "- utilisé **notre fonction** pour créer notre propre `transformer` `Scikit Learn`, en l'intégrant à une **classe**\n",
    "- utilisé les classes `sklearn.base.TransformerMixin` et `sklearn.base.BaseEstimator` chacune comme **classe \"parent\"** afin de transmettre notamment les méthodes suivantes :\n",
    "    - `get_params`\n",
    "    - `set_params`\n",
    "    - `fit_tranform`\n",
    "- intégré dans la **classe \"enfant\"** les **méthodes manquantes** :\n",
    "    - `__init__` (le constructeur pour instancifier notre `transformer` avec les différents paramètres à passer à la fonction)\n",
    "    - `fit`\n",
    "    - `transform`"
   ]
  },
  {
   "cell_type": "markdown",
   "id": "a0d8302f-adf2-4145-a08f-8a0b3bbaecda",
   "metadata": {},
   "source": [
    "## P4.III) Dummy"
   ]
  },
  {
   "cell_type": "markdown",
   "id": "19a05b8d-0ca9-4642-8af6-d9daeeefda0d",
   "metadata": {},
   "source": [
    "Regardons tout d'abord ce que donne notre pipeline avec un *dummy classifer*. Nous allons pour l'instant paramétrer notre `simpleModelCleaner` de manière arbitraire (nous chercherons à l'optimiser par la suite) :"
   ]
  },
  {
   "cell_type": "code",
   "execution_count": null,
   "id": "6b96e941-25b0-467c-87a5-1936cb3236ba",
   "metadata": {},
   "outputs": [],
   "source": [
    "# create a pipeline with our simpleCleaner, a TFIDF and a DummyClassifier\n",
    "dummyPipe = Pipeline(\n",
    "    [\n",
    "        (\"simpleCleaner\", mf.simpleModelCleaner(posToKeep = [\"NOUN\",\"ADJ\"], normalization = None )),\n",
    "        (\"vect\", TfidfVectorizer()),\n",
    "        (\"clf\", DummyClassifier(strategy=\"stratified\"))\n",
    "    ]\n",
    ")"
   ]
  },
  {
   "cell_type": "markdown",
   "id": "8969685e-a713-4e49-9689-fc5d199d8d4f",
   "metadata": {},
   "source": [
    "Passons ce modèle dans notre pipeline d'apprentissage (nous utilisons nos données `X_gen_train` déjà nettoyées avec `generalClean`) :"
   ]
  },
  {
   "cell_type": "code",
   "execution_count": null,
   "id": "3be95777-280f-44f7-9c5d-a3c9af4045d0",
   "metadata": {},
   "outputs": [],
   "source": [
    "# use our simplePipe function on dummyPipe\n",
    "name = \"tf_idf_dummy\"\n",
    "\n",
    "# filter mlflow.search_run dataframe on this name\n",
    "query = f\"tags.mlflow.runName = '{name}'\"\n",
    "results = mlflow.search_runs(experiment_names=[\"sentiment_analysis\"], filter_string=query)\n",
    "\n",
    "# if a run with this name does not already exist, use function\n",
    "if len(results) == 0 :\n",
    "\n",
    "    mf.simplePipeCV (\n",
    "        model=dummyPipe, \n",
    "        run_name=name,\n",
    "        experiment_name=\"sentiment_analysis\",\n",
    "        X=X_gen_train, \n",
    "        y=y_train, \n",
    "        kf=kf, \n",
    "        nested=False,\n",
    "        outPlot = True,\n",
    "        save_time = True, \n",
    "        return_auc=False\n",
    "    )\n",
    "\n",
    "# else, just load the roc and pr curves\n",
    "else :\n",
    "    # load image artifact from mlflow experiment\n",
    "    artifact_uri = results[\"artifact_uri\"].values[0]\n",
    "    roc_pr_curves = mlflow.artifacts.load_image(artifact_uri + \"/CV_roc_pr_curves.png\")\n",
    "    # create a figure and plot\n",
    "    plt.figure(figsize=(14,9))\n",
    "    plt.imshow(roc_pr_curves)\n",
    "    # no axis\n",
    "    plt.axis(False)\n",
    "    plt.show()\n"
   ]
  },
  {
   "cell_type": "markdown",
   "id": "a30610dd-2be2-4231-8770-9cb0db89dad3",
   "metadata": {},
   "source": [
    "## P4.IV) Régression logistique"
   ]
  },
  {
   "cell_type": "markdown",
   "id": "7630caeb-1fba-42e1-a2ca-c419e41696eb",
   "metadata": {},
   "source": [
    "Utilisons maintenant la régression logistique :"
   ]
  },
  {
   "cell_type": "code",
   "execution_count": null,
   "id": "328bf66e-4850-41aa-8ec4-5b7cf9a628d8",
   "metadata": {},
   "outputs": [],
   "source": [
    "# create a pipeline with our simpleCleaner, a TFIDF and a Logistic Regression\n",
    "lrPipe = Pipeline(\n",
    "    [\n",
    "        (\"simpleCleaner\", mf.simpleModelCleaner(posToKeep = [\"NOUN\",\"ADJ\"], normalization = None)),\n",
    "        (\"vect\", TfidfVectorizer()),\n",
    "        (\"clf\", LogisticRegression())\n",
    "    ]\n",
    ")"
   ]
  },
  {
   "cell_type": "code",
   "execution_count": null,
   "id": "d05d5278-6913-4294-9346-fe82036515c9",
   "metadata": {},
   "outputs": [],
   "source": [
    "# use our simplePipe function on lrPipe\n",
    "name = \"tf_idf_lr\"\n",
    "\n",
    "# filter mlflow.search_run dataframe on this name\n",
    "query = f\"tags.mlflow.runName = '{name}'\"\n",
    "results = mlflow.search_runs(experiment_names=[\"sentiment_analysis\"], filter_string=query)\n",
    "\n",
    "# if a run with this name does not already exist, use function\n",
    "if len(results) == 0 :\n",
    "    mf.simplePipeCV (\n",
    "        model=lrPipe, \n",
    "        run_name=name,\n",
    "        experiment_name=\"sentiment_analysis\",\n",
    "        X=X_gen_train, \n",
    "        y=y_train, \n",
    "        kf=kf, \n",
    "        nested=False,\n",
    "        outPlot = True,\n",
    "        save_time = True, \n",
    "        return_auc=False\n",
    "    )\n",
    "\n",
    "# else, just load the roc and pr curves\n",
    "else :\n",
    "    # load image artifact from mlflow experiment\n",
    "    artifact_uri = results[\"artifact_uri\"].values[0]\n",
    "    roc_pr_curves = mlflow.artifacts.load_image(artifact_uri + \"/CV_roc_pr_curves.png\")\n",
    "    # create a figure and plot\n",
    "    plt.figure(figsize=(14,9))\n",
    "    plt.imshow(roc_pr_curves)\n",
    "    # no axis\n",
    "    plt.axis(False)\n",
    "    plt.show()\n"
   ]
  },
  {
   "cell_type": "markdown",
   "id": "0f683caa-9122-4e10-8e21-c7b36d4d290c",
   "metadata": {},
   "source": [
    "## P4.V) Régression logistique - optimisation d'hyperparamètres"
   ]
  },
  {
   "cell_type": "markdown",
   "id": "c41c25cc-68e3-4588-97ac-f635f1e991fa",
   "metadata": {},
   "source": [
    "Nous allons utiliser la librairie `optuna` pour rechercher les meilleurs hyperparamètre pour notre modèle simple. Pour cela nous avons créé une fonction `optunaSimple` qui :\n",
    "- crée un **fonction d'objectif** `optuna` faisant appel à notre `simplePipeCV` paramétré pour :\n",
    "    - créer un **run enfant** (`nested = True`)\n",
    "    - retourner le score `CV_ROC_AUC`, **que la fonction cherchera à optimiser**\n",
    "- crée une `study` `optuna`\n",
    "- **recherche les meilleurs hyperparamètres** et les **enregistre** dans `mlflow`"
   ]
  },
  {
   "cell_type": "markdown",
   "id": "c50ac0f1-c3e9-4f11-982e-f678714cedcb",
   "metadata": {},
   "source": [
    "### P4.V.1) `simpleCleaner` - Quelle normalisation ? Quels POS ?"
   ]
  },
  {
   "cell_type": "code",
   "execution_count": null,
   "id": "f1f4f543-21f9-46ba-94fd-f369914ff5df",
   "metadata": {},
   "outputs": [],
   "source": [
    "# create a grid for our pipeline\n",
    "LRgrid ={\n",
    "        \"simpleCleaner__posToKeep\":[\n",
    "            [\"NOUN\",\"ADJ\",\"VERB\"],\n",
    "            [\"ADJ\",\"VERB\"],\n",
    "            [\"NOUN\",\"ADJ\"],\n",
    "            [\"NOUN\",\"VERB\"],\n",
    "            ],\n",
    "        \"simpleCleaner__normalization\":[\n",
    "            None,\n",
    "            \"stem\",\n",
    "            \"lem\"\n",
    "            ],\n",
    "    }"
   ]
  },
  {
   "cell_type": "code",
   "execution_count": null,
   "id": "6994dca3-b165-4d22-adb8-2ac020e7330e",
   "metadata": {},
   "outputs": [],
   "source": [
    "mf.fromParamGridToDf(LRgrid)"
   ]
  },
  {
   "cell_type": "markdown",
   "id": "630b6d72-77b4-4d7a-966b-cca71fddc58d",
   "metadata": {},
   "source": [
    "(nous utilisons nos données `X_gen_train` déjà nettoyées avec `generalClean`)"
   ]
  },
  {
   "cell_type": "code",
   "execution_count": null,
   "id": "a7098493-4dcc-4014-bfeb-bb4d0e04fa92",
   "metadata": {},
   "outputs": [],
   "source": [
    "# use en simplePipe function on lrPipe\n",
    "name_prefix = \"simple_optuna_cleaner\"\n",
    "\n",
    "# filter mlflow.search_run dataframe on this name\n",
    "query = f\"tags.mlflow.runName = '{name_prefix}_PARENT'\"\n",
    "results = mlflow.search_runs(experiment_names=[\"sentiment_analysis\"], filter_string=query)\n",
    "\n",
    "# if a run with this name does not already exist, use function\n",
    "if len(results) == 0 :\n",
    "    mf.optunaSimple(\n",
    "        model=lrPipe, \n",
    "        run_name_prefix=name_prefix, \n",
    "        experiment_name=\"sentiment_analysis\", \n",
    "        X=X_gen_train, \n",
    "        y=y_train, \n",
    "        kf=kf, \n",
    "        n_trials=10,\n",
    "        paramsGrid = LRgrid, \n",
    "        save_time = True\n",
    "    )\n",
    "\n",
    "\n",
    "# else, just load the roc and pr curves\n",
    "else :\n",
    "    # load image artifact from mlflow experiment\n",
    "    artifact_uri = results[\"artifact_uri\"].values[0]\n",
    "    roc_pr_curves = mlflow.artifacts.load_image(artifact_uri + \"/CV_roc_pr_curves.png\")\n",
    "    # create a figure and plot\n",
    "    plt.figure(figsize=(14,9))\n",
    "    plt.imshow(roc_pr_curves)\n",
    "    # no axis\n",
    "    plt.axis(False)\n",
    "    plt.show()"
   ]
  },
  {
   "cell_type": "markdown",
   "id": "0df996d4-f8e2-4798-a0a8-804f885e8a5d",
   "metadata": {},
   "source": [
    "### P4.V.2) Quels paramètres pour `LogisticRegression` ?"
   ]
  },
  {
   "cell_type": "markdown",
   "id": "302796e5-6843-4590-8a60-40367e770260",
   "metadata": {},
   "source": [
    "Nous allons maintenant nous intéresser aux hyperparamètres du modèle régression logistique.\n",
    "\n",
    "Mais pour accélérer le temps de calcul, nous allons \"bypasser\" l'étape de cleaning. Récupérons tout d'abord les paramètres retenus précédemment :"
   ]
  },
  {
   "cell_type": "code",
   "execution_count": null,
   "id": "86bc5cd8-e2ec-4b39-be9d-64378262f577",
   "metadata": {},
   "outputs": [],
   "source": [
    "## get our simpleCleaner best parameters from mlflow.search_runs\n",
    "\n",
    "# filter mlflow.search_runs on the tag status = \"best_...\"\n",
    "query = f\"tags.status = 'best_simple_optuna_cleaner'\"\n",
    "results = mlflow.search_runs(experiment_names=[\"sentiment_analysis\"], filter_string=query)\n",
    "# put parameters in a dict\n",
    "paramsNames = [col for col in results.columns if \"params.\" in col]\n",
    "paramsValues = [results[col].values[0] for col in paramsNames]\n",
    "bestParamsCleaner = {col.split(\"params.\")[1] : value for col,value in zip(paramsNames, paramsValues)}\n",
    "bestParamsCleaner"
   ]
  },
  {
   "cell_type": "markdown",
   "id": "393f772d-ebbc-47f2-9641-ee8f137993ae",
   "metadata": {},
   "source": [
    "Utilisons ces paramètres pour l'appliquer à nos données :"
   ]
  },
  {
   "cell_type": "code",
   "execution_count": null,
   "id": "be2fd034-f1eb-497f-8c12-d66ad0e46dd4",
   "metadata": {},
   "outputs": [],
   "source": [
    "# create a pipeline just with our simpleCleaner\n",
    "simpleCleanerPipe = Pipeline(\n",
    "    [\n",
    "        (\"simpleCleaner\", mf.simpleModelCleaner())\n",
    "    ]\n",
    ")\n",
    "# apply best parameters\n",
    "simpleCleanerPipe.set_params(**bestParamsCleaner)\n",
    "\n",
    "# use it on our data\n",
    "X_clean = simpleCleanerPipe.fit_transform(X_general)"
   ]
  },
  {
   "cell_type": "markdown",
   "id": "e285bb4c-afd3-4547-a3ca-495eec151633",
   "metadata": {},
   "source": [
    "Nous pouvons maintenant faire notre *train/test split* :"
   ]
  },
  {
   "cell_type": "code",
   "execution_count": null,
   "id": "8b8e3298-b543-459d-8911-237c0e788df0",
   "metadata": {},
   "outputs": [],
   "source": [
    "# split between train and test\n",
    "X_train_clean, X_test_clean, y_train, y_test = train_test_split(X_clean, y, test_size=0.1, random_state=16)"
   ]
  },
  {
   "cell_type": "markdown",
   "id": "ed582b82-d109-47bd-8294-ec8617c33850",
   "metadata": {},
   "source": [
    "Créons maintenant notre pipeline, cette fois sans `simpleCleaner` :"
   ]
  },
  {
   "cell_type": "code",
   "execution_count": null,
   "id": "8e6436db-ecd9-400a-abe3-dd9875d74c8c",
   "metadata": {},
   "outputs": [],
   "source": [
    "# create a pipeline withOUT our simpleCleaner, a TFIDF and a Logistic Regression\n",
    "justLrPipe = Pipeline(\n",
    "    [\n",
    "        (\"vect\", TfidfVectorizer()),\n",
    "        (\"clf\", LogisticRegression())\n",
    "    ]\n",
    ")"
   ]
  },
  {
   "cell_type": "markdown",
   "id": "bd9fbd37-a0c2-44de-941b-3b31abeafac1",
   "metadata": {},
   "source": [
    "Maintenant que nous avons nos données *bypassées* et notre modèle, nous pouvons créer notre grille et lancer la fonction `optunaSimple` :"
   ]
  },
  {
   "cell_type": "code",
   "execution_count": null,
   "id": "1c6e7395-5207-4462-90e4-bd27e9ef7ccf",
   "metadata": {},
   "outputs": [],
   "source": [
    "LRgrid = {\"clf__C\":[\n",
    "            0.001,\n",
    "            1000\n",
    "            ],\n",
    "        \"clf__penalty\":[\n",
    "            \"l2\",\n",
    "            None\n",
    "            ],\n",
    "        \"clf__solver\":[\n",
    "            \"lbfgs\",\n",
    "            \"newton-cg\",\n",
    "            \"sag\",\n",
    "            ],\n",
    "         }"
   ]
  },
  {
   "cell_type": "code",
   "execution_count": null,
   "id": "ac32a58f-d408-41d3-86a6-2f8da52d6511",
   "metadata": {},
   "outputs": [],
   "source": [
    "# use en simplePipe function on lrPipe\n",
    "name_prefix = \"simple_optuna_logReg\"\n",
    "\n",
    "# filter mlflow.search_run dataframe on this name\n",
    "query = f\"tags.mlflow.runName = '{name_prefix}_PARENT'\"\n",
    "results = mlflow.search_runs(experiment_names=[\"sentiment_analysis\"], filter_string=query)\n",
    "\n",
    "# if a run with this name does not already exist, use function\n",
    "if len(results) == 0 :\n",
    "    mf.optunaSimple(\n",
    "        model=justLrPipe, \n",
    "        run_name_prefix=name_prefix, \n",
    "        experiment_name=\"sentiment_analysis\", \n",
    "        X=X_train_clean, \n",
    "        y=y_train, \n",
    "        kf=kf, \n",
    "        n_trials=30,\n",
    "        paramsGrid = LRgrid, \n",
    "        save_time = True\n",
    "    )\n",
    "\n",
    "\n",
    "# else, just load the roc and pr curves\n",
    "else :\n",
    "    # load image artifact from mlflow experiment\n",
    "    artifact_uri = results[\"artifact_uri\"].values[0]\n",
    "    roc_pr_curves = mlflow.artifacts.load_image(artifact_uri + \"/CV_roc_pr_curves.png\")\n",
    "    # create a figure and plot\n",
    "    plt.figure(figsize=(14,9))\n",
    "    plt.imshow(roc_pr_curves)\n",
    "    # no axis\n",
    "    plt.axis(False)\n",
    "    plt.show()"
   ]
  },
  {
   "cell_type": "markdown",
   "id": "561e5c4c-a973-4303-ae8b-1cbff719fb76",
   "metadata": {},
   "source": [
    "## P4.VI) Modèle simple final"
   ]
  },
  {
   "cell_type": "markdown",
   "id": "0f788a31-7eeb-4057-a9dd-9ae6366a7b2d",
   "metadata": {},
   "source": [
    "Nous avons maintenant nos meilleurs hyperparamètres. Nous allons maintenant pouvoir contruire notre modèle simple complet composé de :\n",
    "- **`generalCleaner`**\n",
    "- `simpleCleaner`, avec les **meilleurs hyperparamètres**\n",
    "- `TfidfVectorizer`\n",
    "- `LogisticRegression` avec les **meilleurs hyperparamètres**\n",
    "\n",
    "L'**intérêt de rajouter le `generalCleaner` est de pouvoir prendre nos données brutes en entrée**, et ainsi optenir un **modèle plus adapté à la mise en production**."
   ]
  },
  {
   "cell_type": "code",
   "execution_count": null,
   "id": "b56a26ab-4e27-43c9-bf0a-b1eac6715a96",
   "metadata": {},
   "outputs": [],
   "source": [
    "# create a pipeline with our simpleCleaner, a TFIDF and a Logistic Regression\n",
    "completLrPipe = Pipeline(\n",
    "    [\n",
    "        (\"generalCleaner\", mf.generalCleaner(url = \"url\", email = \"email\", hashtag = \"hashtag\", mention = \"mention\")),\n",
    "        (\"simpleCleaner\", mf.simpleModelCleaner()),\n",
    "        (\"vect\", TfidfVectorizer()),\n",
    "        (\"clf\", LogisticRegression())\n",
    "    ]\n",
    ")"
   ]
  },
  {
   "cell_type": "markdown",
   "id": "ae147c57-f7f8-4fd1-ab54-39dc5803ccbf",
   "metadata": {},
   "source": [
    "Retrouvons maintenant les meilleurs hyperparamètres :"
   ]
  },
  {
   "cell_type": "code",
   "execution_count": null,
   "id": "9bb65fac-155e-457e-ae9a-c9528f0924d3",
   "metadata": {},
   "outputs": [],
   "source": [
    "## get our clf best parameters from mlflow.search_runs\n",
    "\n",
    "# filter mlflow.search_runs on the tag status = \"best_...\"\n",
    "query = f\"tags.status = 'best_simple_optuna_logReg'\"\n",
    "results = mlflow.search_runs(experiment_names=[\"sentiment_analysis\"], filter_string=query)\n",
    "# put parameters in a dict\n",
    "# first get parameters names\n",
    "paramsNames = [col for col in results.columns if \"params.\" in col]\n",
    "# the their values\n",
    "paramsValues = [results[col].values[0] for col in paramsNames]\n",
    "# carefull with numericals\n",
    "paramsValues = [int(val) if val.isnumeric() else val for val in paramsValues]\n",
    "paramsValues = [float(val)  if (type(val) == str and val.replace(\".\", \"\").isnumeric()) else val for val in paramsValues]\n",
    "# create the dict\n",
    "bestParamsLogReg = {col.split(\"params.\")[1] : value for col,value in zip(paramsNames, paramsValues)}\n",
    "bestParamsLogReg"
   ]
  },
  {
   "cell_type": "code",
   "execution_count": null,
   "id": "6b9e473d-a4ac-4b04-a764-26903cdf7ae6",
   "metadata": {},
   "outputs": [],
   "source": [
    "bestParamsSimple = bestParamsCleaner | bestParamsLogReg\n",
    "bestParamsSimple"
   ]
  },
  {
   "cell_type": "markdown",
   "id": "01eac29f-18b1-4d20-96a6-ea0e9e4f8447",
   "metadata": {},
   "source": [
    "Et utilisons notre `simplePipeTest` pour enregistrer notre modèle :"
   ]
  },
  {
   "cell_type": "code",
   "execution_count": null,
   "id": "38bc4bfa-cdd0-4f8f-a9f4-991ebf59064b",
   "metadata": {},
   "outputs": [],
   "source": [
    "# use our simplePipeTest function on lrPipe\n",
    "name = \"final_simple\"\n",
    "\n",
    "# filter mlflow.search_run dataframe on this name\n",
    "query = f\"tags.mlflow.runName = '{name}'\"\n",
    "results = mlflow.search_runs(experiment_names=[\"sentiment_analysis\"], filter_string=query)\n",
    "\n",
    "# if a run with this name does not already exist, use function\n",
    "if len(results) == 0 :\n",
    "    mf.simplePipeTest (\n",
    "        model=completLrPipe, \n",
    "        run_name=name, \n",
    "        model_name=name, \n",
    "        experiment_name=\"sentiment_analysis\",\n",
    "        X_train=X_train, \n",
    "        y_train=y_train, \n",
    "        X_test=X_test, \n",
    "        y_test=y_test, \n",
    "        params = bestParamsSimple, \n",
    "        outPlot = True,\n",
    "        save_time = True, \n",
    "        save_model = True\n",
    "    )\n",
    "\n",
    "\n",
    "\n",
    "# else, just load the roc and pr curves\n",
    "else :\n",
    "    # load image artifact from mlflow experiment\n",
    "    artifact_uri = results[\"artifact_uri\"].values[0]\n",
    "    roc_pr_curves = mlflow.artifacts.load_image(artifact_uri + \"/test_roc_pr_curves.png\")\n",
    "    # create a figure and plot\n",
    "    plt.figure(figsize=(14,9))\n",
    "    plt.imshow(roc_pr_curves)\n",
    "    # no axis\n",
    "    plt.axis(False)\n",
    "    plt.show()\n"
   ]
  },
  {
   "cell_type": "markdown",
   "id": "c24abec5-0cad-4299-a837-7c51ce1efe92",
   "metadata": {},
   "source": [
    "# PARTIE 5 - MODELE AVANCÉ"
   ]
  },
  {
   "cell_type": "markdown",
   "id": "dd81fb10-e6eb-47f3-be9a-2ff6983e45e0",
   "metadata": {},
   "source": [
    "## P5.I) Méthode"
   ]
  },
  {
   "cell_type": "markdown",
   "id": "2b9eb870-624e-4c29-9dc8-f07011669e16",
   "metadata": {},
   "source": [
    "### P5.I.1) Set de validation"
   ]
  },
  {
   "cell_type": "markdown",
   "id": "c9923812-264e-4d31-a176-baad335834a1",
   "metadata": {},
   "source": [
    "Pour le modèle avancé nous **n'utiliserons pas de validation croisée** (eu égard au temps de calcul...), nous allons donc effectuer un *split* pour créer un **set de validation**, afin de pouvoir comparer des modèles de deep learning, et effectuer une **optimisation d'hyperparamètres** :"
   ]
  },
  {
   "cell_type": "code",
   "execution_count": 10,
   "id": "63cd17d7-41eb-4d43-9ac9-8f981ad59154",
   "metadata": {},
   "outputs": [],
   "source": [
    "# split X_train into training and validation sets\n",
    "X_tr_train, X_tr_valid, y_tr_train, y_tr_valid = train_test_split(X_train.values, y_train.values, test_size=0.1, random_state=16)\n",
    "X_test, y_test = X_test.values, y_test.values"
   ]
  },
  {
   "cell_type": "markdown",
   "id": "e369a26b",
   "metadata": {},
   "source": [
    "L'idée reste la même : \n",
    "- le set de test ne doit servir que pour faire des prédictions ou faire une évaluation finale\n",
    "- optimiser des hyperparamètres en comparant sur la base du set de test pourrait conduire à du *data leakage*"
   ]
  },
  {
   "cell_type": "markdown",
   "id": "f43bf645",
   "metadata": {},
   "source": [
    "### P5.I.2) Composition du modèle avancé"
   ]
  },
  {
   "cell_type": "markdown",
   "id": "c72c3b6a",
   "metadata": {},
   "source": [
    "Pour la mise au point de ce modèle de Deep Learning, nous :\n",
    "- allons **concevoir un modèle récurrent** que nous entraînerons sur notre jeu de données\n",
    "- nous testerons différentes solutions pour le **plongement de mots** : vecteurs mots **pré-entraînés**, ou **non**\n",
    "- cette couche d'embedding sera **entraînable**, ou **non**"
   ]
  },
  {
   "cell_type": "markdown",
   "id": "71133335-08f8-4854-ba21-944333fb5d9e",
   "metadata": {},
   "source": [
    "Le **modèle avancé** sera composé :\n",
    "- d'une **couche d'embedding**, qui crée des plongements de mots :\n",
    "    - Elle prend en entrée des **séquences d'entiers** issues d'une vectorisation de nos documents, il s'agit donc d'**indices de mot**\n",
    "    - Elle a pour arguments `input_dim` qui correspond au nombre de mots uniques dans le vocabulaire (déterminé lors de la vectorisation) ainsi que `output_dim` qui correspond à la dimension des vecteurs de mots\n",
    "    - Elle sort alors un tensor de dimensions **nb de séquences $*$ longueur des séquence $*$ dimension des vecteurs de mot**\n",
    "    - Nous pouvons initialiser les poids de cette couche d'embedding grâce un embedding **pré-entraîné**, pour cela nous avons **créé une fonction** permettant de créer cette matrice de poids pré-entraînés à partir d'un fichier téléchargé sur internet : `get_embedding_matrix`.\n",
    "- d'une **couche LSMT (Long Short-Term Memory) bidirectionnelle**, qui permet de dédoubler les unités *LSTM* afin de parcourir les séquences de gauche à droite (sens de la lecture) et de droite à gauche, permettant ainsi de **capter des dépendances dans les 2 sens**. Pour cette couche nous pourrons faire varier :\n",
    "    - `units` : qui correspond au nombre d'unités *LSTM* dans chacune des 2 directions\n",
    "    - `dropout` : qui correspond à la fraction d'unités *LSTM* qui seront déconnectées à chaque étape de la lecture des séquences\n",
    "    - `recurrent_dropout` : qui correspond à la fraction d'unités *LSTM* qui se seront déconnectées à chaque étape de la lecture de la cellule mémoire\n",
    "- une **dense** à une seule unité (une seule classe à prédire) avec une fonction d'activation **sigmoïde** (pour obtenir un score/une probabilité entre 0 et 1)"
   ]
  },
  {
   "cell_type": "markdown",
   "id": "670401e6-57bc-4662-a468-00a1e2c257ab",
   "metadata": {},
   "source": [
    "### P5.I.3) Comment créer nos séquences ?"
   ]
  },
  {
   "cell_type": "markdown",
   "id": "71e5ea97-7f65-4957-a7cf-c8c92d3b26a3",
   "metadata": {},
   "source": [
    "Nous avons avons vu que notre modèle prend des séquences en entrée, il **nous faut donc créer ces séquences** :\n",
    "\n",
    "Pour cela nous utiliserons **une couche `TextVectorization`** proposée par `keras`. Nous utliserons cette couche pour :\n",
    "- transformer notre Series de tweets **en une liste de séquences d'indices de tokens** (via l'argument `output_mod = \"int\"`). Le nombre d'indices disponible est **borné par `max_tokens`, qui est la taille maximale** du dictionnaire\n",
    "- appliquer un *padding*, c'est-à-dire remplir les séquences avec des \" \"  (ou les tronquer si elles sont trop longues) afin qu'elles atteignent un longueur donnée (`output_sequence_length`).\n",
    "\n",
    "Et ce qui est intéressant avec cette couche `TextVectorization`, **c'est que nous pouvons appliquer un nettoyage préalable via l'argument `standardize`**. Pour cela nous avons défini une fonction `get_custom_standardize_func` qui génère une fonction qui :\n",
    "- transforme le tensor d'input en array puis en Series\n",
    "- nous permettant d'appliquer nos fonctions de nettoyage `generalClean` et `advancedModelClean`\n",
    "- et **ainsi de pouvoir tester différents nettoyages** :\n",
    "    - lowercase ou non,\n",
    "    - par quoi remplacer les hashtags ?,\n",
    "    - par quoi remplacer les mention @... ?\n",
    "    - mais **surtout quelle normalisation appliquer ? Aucune ? Stematisation ? Lemmatisation ?**"
   ]
  },
  {
   "cell_type": "markdown",
   "id": "3bfb88b5-17ab-44c6-8047-33ca18be3096",
   "metadata": {},
   "source": [
    "### P5.I.4) Pipeline d'apprentissage complet pour l'optimisation d'hyperparamètres"
   ]
  },
  {
   "cell_type": "markdown",
   "id": "8d419137-bc9b-4519-8190-0e6d74bc7ae6",
   "metadata": {},
   "source": [
    "Nous avons créé **une fonction `advanced_long_pipeline_valid`** qui :\n",
    "1) appelle la fonction **`create_text_vectorizer`** avec différents paramètres :\n",
    "    - `normalisation` : aucune ? stematisation ? lemmatisation ?\n",
    "    - par quoi remplacer les hashtags, mensions, etc.\n",
    "    - la **taille maximale du vocabulaire** (le nombre de tokens uniques)\n",
    "    - la **taille des séquences**\n",
    "2) utilise cette couche de vectorisation sur nos données :\n",
    "    - `.adapt` sur les données d'entraînement (pour éviter le *data leakage*)\n",
    "    - l'appliquer sur les données d'entraînement et les données de validation \n",
    "3) crée une matrice d'embedding avec **`get_embedding_matrix`** à partir :\n",
    "    - d'un chemin d'accès vers un **fichier d'embedding pré-entraîné**\n",
    "    - du **vocabulaire** extrait de la couche de vectorisation\n",
    "4) crée un modèle avec `create_LSTM` avec différents paramètres :\n",
    "    - la matrice d'embedding créée à l'étape précédente pour initialiser les poids de la couche d'embedding (si aucun chemin d'accès n'a été fourni, les poids sont initialisés par défaut (\"random\"))\n",
    "    - le nombre d'unités `LSTM_units`\n",
    "    - le taux de `dropout`\n",
    "    - le taux de `recurrent_dropout`\n",
    "    - l'`optimizer`\n",
    "5) crée un critère d'arrêt automatique pour l'entraînement, `EarlyStopping` :\n",
    "    - basé sur notre métrique principale `val_AUC`\n",
    "    - le nombre de fois `early_stopping_patience` où `val_AUC` ne doit pas s'améliorer avant de stopper l'entraînement\n",
    "6) entraîne le modèle :\n",
    "    - sur les **données d'entraînement** fournies, **vectorisées**\n",
    "    - avec test de la capacité de généralisation sur les **données de validation vectorisées**\n",
    "7) trace les courbes ROC et PrecisionRecall\n",
    "8) Enregistre via `mlflow` :\n",
    "    - les paramètres : `text_vectorizer_params`, `embedding_params`, `early_stopping_patience`, `fit_params`\n",
    "    - les métriques : `valid_ROC_AUC`, `valid_Accuracy`, `training_time`\n",
    "    - les figures ROC et PrecisionRecall\n",
    "9) peut retourner la `valid_ROC_AUC` (dans le cadre d'une utilisation en tant que fonction d'objectif pour `optuna`)"
   ]
  },
  {
   "cell_type": "markdown",
   "id": "e0b5eecd-00d5-4963-a0e4-dcc117f16500",
   "metadata": {},
   "source": [
    "### P5.I.5) Quels hyperparamètres ?"
   ]
  },
  {
   "cell_type": "markdown",
   "id": "1520fe20-7199-4b2d-9e81-99417920d733",
   "metadata": {},
   "source": [
    "Afin de déterminer les meilleurs hyperparamètres pour notre modèle avancé, nous utiliserons **trois méthodes** :\n",
    "1) utilisation de la **librairie `optuna`** dans une fonction **`optunaShortAdvanced`** qui :\n",
    "    - effectue les premières étapes du pipeline `create_text_vectorizer` et `get_embedding_matrix` (ces deux étapes, déjà très longues, ne font pas partie de la recherche d'hyperparamètres)\n",
    "    - crée une fonction d'`objective` avec :\n",
    "        - une **version raccourcie du pipeline** d'entraînement (qui commence directement avec des données vectorisées et une matrice d'embedding prête)\n",
    "        - différentes **grilles** d'hyperparamètres qu'elle transforme en `trial.suggest_...` compatibles avec `optuna`\n",
    "        - une grandeur à optimiser `valid_ROC_AUC`\n",
    "    - crée une recherche d'hyperparamètres `optuna.study` :\n",
    "        - au sein d'un *run* `mlflow` `parent`\n",
    "        - avec un **nombre d'essais `n_trials`**\n",
    "        - avec des *runs* `child` (grâce à l'option `nested = True`), un pour chaque essai\n",
    "    - extrait du **meilleur *run*** ses **hyperparamètres/figures/métriques**\n",
    "2) utilisation du pipeline complet **pour les phases amont** :\n",
    "    - `create_text_vectorizer` et `get_embedding_matrix`\n",
    "    - qui **rallongeraient bien trop** le processus si elles étaient intégrées au sein d'une recherche sur grilles\n",
    "3) choix par défaut pour certains paramètres, notamment la **taille du vocabulaire** et la **taille des séquences**."
   ]
  },
  {
   "cell_type": "markdown",
   "id": "d8de5a87",
   "metadata": {},
   "source": [
    "### P5.I.6) Pipeline d'apprentissage pour le *test*"
   ]
  },
  {
   "cell_type": "markdown",
   "id": "19f2211f",
   "metadata": {},
   "source": [
    "Pour le modèle avancé, et **sur la base des paramètres déterminés précédemment**, nous avons créé une fonction `advanced_long_pipeline_test` permettant de :\n",
    "\n",
    "1. réaliser les mêmes étapes que le pipeline `advanced_long_pipeline_valid` pour la préparation et l'entraînement du modèle...\n",
    "2. ... mais en évaluant le modèle (`training_time`, `roc_auc`, `accuracy`, ROC et PR curves) **sur la base du set de test** `X_test` et `y_test`\n",
    "3. *logger* le **modèle**\n",
    " \n",
    "L'objectif est d'**utiliser ce pipeline pour le modèle avancé final**."
   ]
  },
  {
   "cell_type": "markdown",
   "id": "9b8be36f-7827-4034-8f16-2022e05bbad9",
   "metadata": {},
   "source": [
    "## P5.II) Choix `vocab_size` et `sequence_len`"
   ]
  },
  {
   "cell_type": "markdown",
   "id": "fe6efc30-15d8-464b-a716-d3ebada9af7f",
   "metadata": {},
   "source": [
    "La **taille du vocabulaire** a une influence sur la taille de la matrice d'embedding, et donc sur son nombre de paramètres. Un vocabulaire :\n",
    "- trop pauvre mettra **de côté les mots trop rares**\n",
    "- trop important, en plus de nécessiter des **capacités mémoire/calcul plus importantes**, génére **beaucoup plus de vecteurs mot spécifiques**, et peut donc mener le modèle à ***overfitter***.\n",
    "\n",
    "Pour choisir la taille de notre vocabulaire, nous allons regarder sa taille réelle :"
   ]
  },
  {
   "cell_type": "code",
   "execution_count": null,
   "id": "23650675-b832-4905-b079-501f4ecd829a",
   "metadata": {},
   "outputs": [],
   "source": [
    "# tokenize all texts from X_general\n",
    "all_tokens_general_clean = \" \".join(X_general)\n",
    "all_tokens_general_clean = tokenizer.tokenize(all_tokens_general_clean)\n",
    "\n",
    "# number of unique tokens\n",
    "print(\"total number of unique tokens :\",\n",
    "    len(\n",
    "        list(\n",
    "            set(all_tokens_general_clean)\n",
    "        )\n",
    "    )\n",
    ")"
   ]
  },
  {
   "cell_type": "markdown",
   "id": "68fb02e1-382b-4ba1-8bcb-4e5faa5f4831",
   "metadata": {},
   "source": [
    "Nous allons nous arrêter à 15000."
   ]
  },
  {
   "cell_type": "code",
   "execution_count": null,
   "id": "508243eb-69a4-4830-9ec0-3459c239f87b",
   "metadata": {},
   "outputs": [],
   "source": [
    "# plot tweets lengths (nb of words/tokens)\n",
    "\n",
    "if \"number_of_tokens_plot.png\" not in os.listdir(\"mySaves/plots\") :\n",
    "    \n",
    "    # tokenize each tweet\n",
    "    # general_clean_tokens = X_general.apply(lambda text : tokenizer.tokenize(text))\n",
    "    general_clean_tokens = pd.Series(\n",
    "        [\n",
    "            [t for t in doc]\n",
    "            for doc in nlp.pipe(\n",
    "                texts=X_general.str.lower().values,\n",
    "                disable=['ner']\n",
    "            )\n",
    "        ]\n",
    "    )\n",
    "    \n",
    "    \n",
    "    # X_general.apply(lambda text : [t for t in nlp(text)])\n",
    "    \n",
    "    # plot the distribution of their lengths\n",
    "    fig, ax = plt.subplots(1,1)\n",
    "    # plot\n",
    "    sns.histplot(general_clean_tokens.apply(lambda l : len(l)), ax=ax)\n",
    "    # title\n",
    "    ax.set_title(\"tweets lengths\")\n",
    "    # labels\n",
    "    ax.set_xlabel(\"number of tokens\")\n",
    "\n",
    "    plt.savefig(\"mySaves/plots/number_of_tokens_plot.png\")\n",
    "    \n",
    "    plt.show()\n",
    "\n",
    "else :\n",
    "    img = plt.imread(\"mySaves/plots/number_of_tokens_plot.png\")\n",
    "\n",
    "    plt.imshow(img)\n",
    "    plt.axis('off')\n",
    "    plt.show()"
   ]
  },
  {
   "cell_type": "markdown",
   "id": "99a73426-28a1-4ada-8560-0d88d684a32d",
   "metadata": {},
   "source": [
    "Nous allons choisir une longueur de séquence égale à 40."
   ]
  },
  {
   "cell_type": "code",
   "execution_count": 17,
   "id": "c551eb09-d88d-4f51-8ddd-ba235468cace",
   "metadata": {},
   "outputs": [],
   "source": [
    "# number of features\n",
    "vocab_size = 15000\n",
    "# sequence length\n",
    "sequence_len = 40"
   ]
  },
  {
   "cell_type": "markdown",
   "id": "0c8e24dc-bebc-4b50-adc1-f3c71b2956bd",
   "metadata": {},
   "source": [
    "## P5.III) Baseline"
   ]
  },
  {
   "cell_type": "markdown",
   "id": "26a313e2",
   "metadata": {},
   "source": [
    "Notre modèle avancé sera basé sur une architecture récurrente. Afin de juger de sa pertinence, nous testerons une `Baseline` composée de :\n",
    "- notre couche de nettoyage / vectorization\n",
    "- une couche d'embedding (vierge, à entraîner)\n",
    "- une couche `flatten` pour aplatir nos séquences (nous n'avons pas de couche récurrente)\n",
    "- une couche dense de 16 neurones\n",
    "- une couche finale dense de 1 neurones"
   ]
  },
  {
   "cell_type": "markdown",
   "id": "32518b79",
   "metadata": {},
   "source": [
    "Nous ne *loggerons* pas les paramètres ici, seulement les métriques."
   ]
  },
  {
   "cell_type": "code",
   "execution_count": 40,
   "id": "a97ec0f5",
   "metadata": {},
   "outputs": [
    {
     "name": "stdout",
     "output_type": "stream",
     "text": [
      "Model: \"baseline_advanced\"\n",
      "_________________________________________________________________\n",
      " Layer (type)                Output Shape              Param #   \n",
      "=================================================================\n",
      " embedding (Embedding)       (None, 40, 50)            750000    \n",
      "                                                                 \n",
      " flatten_1 (Flatten)         (None, 2000)              0         \n",
      "                                                                 \n",
      " dense16 (Dense)             (None, 16)                32016     \n",
      "                                                                 \n",
      " dense1 (Dense)              (None, 1)                 17        \n",
      "                                                                 \n",
      "=================================================================\n",
      "Total params: 782033 (2.98 MB)\n",
      "Trainable params: 782033 (2.98 MB)\n",
      "Non-trainable params: 0 (0.00 Byte)\n",
      "_________________________________________________________________\n",
      "Epoch 1/10\n",
      "507/507 [==============================] - 3s 5ms/step - loss: 0.6036 - Accuracy: 0.6564 - auc: 0.7326 - val_loss: 0.5243 - val_Accuracy: 0.7350 - val_auc: 0.8180\n",
      "Epoch 2/10\n",
      "507/507 [==============================] - 2s 4ms/step - loss: 0.4394 - Accuracy: 0.8028 - auc: 0.8791 - val_loss: 0.5200 - val_Accuracy: 0.7533 - val_auc: 0.8299\n",
      "Epoch 3/10\n",
      "507/507 [==============================] - 2s 5ms/step - loss: 0.2861 - Accuracy: 0.8891 - auc: 0.9529 - val_loss: 0.5960 - val_Accuracy: 0.7417 - val_auc: 0.8083\n",
      "Epoch 4/10\n",
      "507/507 [==============================] - 2s 4ms/step - loss: 0.1526 - Accuracy: 0.9476 - auc: 0.9872 - val_loss: 0.7016 - val_Accuracy: 0.7339 - val_auc: 0.7982\n",
      "Model: \"baseline_advanced\"\n",
      "_________________________________________________________________\n",
      " Layer (type)                Output Shape              Param #   \n",
      "=================================================================\n",
      " embedding (Embedding)       (None, 40, 50)            750000    \n",
      "                                                                 \n",
      " flatten_1 (Flatten)         (None, 2000)              0         \n",
      "                                                                 \n",
      " dense16 (Dense)             (None, 16)                32016     \n",
      "                                                                 \n",
      " dense1 (Dense)              (None, 1)                 17        \n",
      "                                                                 \n",
      "=================================================================\n",
      "Total params: 782033 (2.98 MB)\n",
      "Trainable params: 782033 (2.98 MB)\n",
      "Non-trainable params: 0 (0.00 Byte)\n",
      "_________________________________________________________________\n",
      "57/57 [==============================] - 0s 2ms/step - loss: 0.5200 - Accuracy: 0.7533 - auc: 0.8299\n",
      "57/57 [==============================] - 0s 1ms/step\n"
     ]
    },
    {
     "data": {
      "image/png": "[encoded data removed]",
      "text/plain": [
       "<Figure size 1200x600 with 2 Axes>"
      ]
     },
     "metadata": {},
     "output_type": "display_data"
    }
   ],
   "source": [
    "# create our baseline run\n",
    "run_name = \"baseline_advanced\"\n",
    "\n",
    "# filter mlflow.search_run dataframe on this name\n",
    "query = f\"tags.mlflow.runName = '{run_name}'\"\n",
    "results = mlflow.search_runs(experiment_names=[\"sentiment_analysis\"], filter_string=query)\n",
    "\n",
    "# if a run with this name does not already exist, create, fit and evaluate our baseline model\n",
    "if len(results) == 0 :\n",
    "    # get experiment id\n",
    "    exp_id = mlflow.get_experiment_by_name(\"sentiment_analysis\").experiment_id\n",
    "    # start run\n",
    "    with mlflow.start_run(experiment_id=exp_id, run_name=run_name, tags={\"status\": \"baseline\"}) :\n",
    "        ## cleaning and vectorization layer\n",
    "        text_vectorizer = mf.create_text_vectorizer(layer_name=\"text_vectorizer\", vocab_size=vocab_size, sequence_len=sequence_len)\n",
    "        start_time = time.time()  \n",
    "        text_vectorizer.adapt(X_tr_train)\n",
    "        # apply on train and validation data\n",
    "        X_tr_train_vect, X_tr_valid_vect = text_vectorizer(X_tr_train), text_vectorizer(X_tr_valid)\n",
    "\n",
    "        ## model\n",
    "        model = Sequential(name=run_name)\n",
    "        # add input\n",
    "        model.add(Input(shape=(sequence_len,)))\n",
    "        # add Embedding layer\n",
    "        model.add(\n",
    "            Embedding(\n",
    "                input_dim=vocab_size,\n",
    "                output_dim=50,\n",
    "                name=\"embedding\"\n",
    "                )\n",
    "            )\n",
    "        # add flatten\n",
    "        model.add(Flatten())\n",
    "        # add Dense layers\n",
    "        model.add(\n",
    "            Dense(\n",
    "                units=16,\n",
    "                activation=\"relu\",\n",
    "                name=\"dense16\"\n",
    "            ),\n",
    "            )\n",
    "        # add Dense layer\n",
    "        model.add(\n",
    "            Dense(\n",
    "                units=1,\n",
    "                activation=\"sigmoid\",\n",
    "                name=\"dense1\"\n",
    "            )\n",
    "            )\n",
    "        # compile\n",
    "        model.compile(optimizer = \"adam\", loss = \"binary_crossentropy\", metrics=[\"Accuracy\", \"AUC\"])\n",
    "        model.summary()\n",
    "\n",
    "        ## fit\n",
    "        # create earlystopping\n",
    "        callbacks = [\n",
    "            EarlyStopping(\n",
    "                monitor=\"val_auc\",\n",
    "                restore_best_weights=True,\n",
    "                patience=2\n",
    "            )\n",
    "        ]\n",
    "        # fit\n",
    "        model.fit(\n",
    "                x=X_tr_train_vect,\n",
    "                y=y_tr_train,\n",
    "                validation_data=(X_tr_valid_vect, y_tr_valid),\n",
    "                callbacks=callbacks,\n",
    "                epochs=10\n",
    "            )\n",
    "\n",
    "        ## metrics\n",
    "        fit_time = time.time() - start_time\n",
    "        _, acc, roc_auc = model.evaluate(X_tr_valid_vect, y_tr_valid)\n",
    "        # log them\n",
    "        mlflow.log_metric(key=\"valid_ROC_AUC\", value=roc_auc)\n",
    "        mlflow.log_metric(key=\"valid_Accuracy\", value=acc)\n",
    "        mlflow.log_metric(\"training_time\", fit_time)\n",
    "\n",
    "        ## plot\n",
    "        # first make validation predictions (scores)\n",
    "        y_val_prob = model.predict(X_tr_valid_vect)[:,0]\n",
    "        # then use ploting func\n",
    "        fig = mf.plotROCandPRfromTEST(\n",
    "            probsList=y_val_prob, \n",
    "            namesList=run_name, \n",
    "            ytest=y_tr_valid, \n",
    "            plot_chance_level=True, \n",
    "            show=True,\n",
    "            testSetName = \"Validation\"\n",
    "            )\n",
    "        # log fig\n",
    "        mlflow.log_figure(figure=fig, artifact_file=\"valid_roc_pr_curves.png\")\n",
    "\n",
    "# else, just load the roc and pr curves\n",
    "else :\n",
    "    # load image artifact from mlflow experiment\n",
    "    artifact_uri = results[\"artifact_uri\"].values[0]\n",
    "    roc_pr_curves = mlflow.artifacts.load_image(artifact_uri + \"/valid_roc_pr_curves.png\")\n",
    "    # create a figure and plot\n",
    "    plt.figure(figsize=(14,9))\n",
    "    plt.imshow(roc_pr_curves)\n",
    "    # no axis\n",
    "    plt.axis(False)\n",
    "    plt.show()"
   ]
  },
  {
   "cell_type": "markdown",
   "id": "ceaa12c6",
   "metadata": {},
   "source": [
    "## P5.III) Premier essai de notre model `LSTM` bidirectionnel"
   ]
  },
  {
   "cell_type": "markdown",
   "id": "46f7a2ff-fe30-40c6-938b-ee067506a872",
   "metadata": {},
   "source": [
    "Utilisons tout d'abord le pipeline complet `advanced_long_pipeline_valid` **sans** matrice d'embedding pré-entraînée, **sans** dropout et **sans** normalisation de texte :"
   ]
  },
  {
   "cell_type": "code",
   "execution_count": 18,
   "id": "7c3adb62-0dce-4412-b985-9412fa2bccb6",
   "metadata": {},
   "outputs": [],
   "source": [
    "# create dictionnaries with layers hyperparameters\n",
    "\n",
    "# text vectorizer params\n",
    "text_vectorizer_params = dict(\n",
    "    layer_name=\"preprocess_vectorization_without_norm\",\n",
    "    lowercase=False,\n",
    "    url=\"url\", \n",
    "    email=\"email\", \n",
    "    hashtag=\"hashtag\", \n",
    "    mention=\"mension\", \n",
    "    normalization=None,\n",
    "    vocab_size=vocab_size, \n",
    "    sequence_len=sequence_len\n",
    ")\n",
    "\n",
    "# embedding params\n",
    "embedding_params = dict(\n",
    "    embedding_file_path=None,\n",
    ")\n",
    "\n",
    "# model\n",
    "model_params = dict(\n",
    "    model_name=\"no_dropout_no_pretrained_embedding\", \n",
    "    seq_len=sequence_len,\n",
    "    trainable_embedding=True,\n",
    "    default_vocab_size = vocab_size,\n",
    "    default_embedding_dim = 300,\n",
    "    LSTM_units = 10, \n",
    "    LSTM_dropout = 0,\n",
    "    LSTM_recurrent_dropout = 0,\n",
    "    optimizer=\"adam\",\n",
    ")\n",
    "\n",
    "# fit params\n",
    "early_stopping_patience=2\n",
    "fit_params = dict(\n",
    "    epochs=100,\n",
    "    batch_size=32,\n",
    "    verbose=2,\n",
    ")"
   ]
  },
  {
   "cell_type": "code",
   "execution_count": 41,
   "id": "910fc9f0-4f10-4d0d-831a-13c2857e025c",
   "metadata": {},
   "outputs": [
    {
     "data": {
      "application/vnd.jupyter.widget-view+json": {
       "model_id": "0fe345a07ecc448fbfc62e633d6f16ff",
       "version_major": 2,
       "version_minor": 0
      },
      "text/plain": [
       "Downloading artifacts:   0%|          | 0/1 [00:00<?, ?it/s]"
      ]
     },
     "metadata": {},
     "output_type": "display_data"
    },
    {
     "data": {
      "image/png": "[encoded data removed]",
      "text/plain": [
       "<Figure size 1400x900 with 1 Axes>"
      ]
     },
     "metadata": {},
     "output_type": "display_data"
    }
   ],
   "source": [
    "# use our advanced_long_pipeline_valid function with these parameters\n",
    "run_name = \"lstm_no_norm_no_pretrained_embed_no_dropout\"\n",
    "\n",
    "# filter mlflow.search_run dataframe on this name\n",
    "query = f\"tags.mlflow.runName = '{run_name}'\"\n",
    "results = mlflow.search_runs(experiment_names=[\"sentiment_analysis\"], filter_string=query)\n",
    "\n",
    "# if a run with this name does not already exist, use function advanced_long_pipeline_valid\n",
    "if len(results) == 0 :\n",
    "    mf.advanced_long_pipeline_valid (\n",
    "        text_vectorizer_params=text_vectorizer_params, \n",
    "        embedding_params=embedding_params,\n",
    "        model_params=model_params,\n",
    "        run_name=run_name,\n",
    "        experiment_name=\"sentiment_analysis\",\n",
    "        X_train=X_tr_train, \n",
    "        y_train=y_tr_train, \n",
    "        X_valid=X_tr_valid,\n",
    "        y_valid=y_tr_valid,\n",
    "        early_stopping_patience=early_stopping_patience,\n",
    "        fit_params=fit_params,\n",
    "        nested=False,\n",
    "        outPlot = True,\n",
    "        outSummary = True,\n",
    "        save_time = True, \n",
    "        return_auc=False\n",
    "    )\n",
    "\n",
    "# else, just load the roc and pr curves\n",
    "else :\n",
    "    # load image artifact from mlflow experiment\n",
    "    artifact_uri = results[\"artifact_uri\"].values[0]\n",
    "    roc_pr_curves = mlflow.artifacts.load_image(artifact_uri + \"/valid_roc_pr_curves.png\")\n",
    "    # create a figure and plot\n",
    "    plt.figure(figsize=(14,9))\n",
    "    plt.imshow(roc_pr_curves)\n",
    "    # no axis\n",
    "    plt.axis(False)\n",
    "    plt.show()\n"
   ]
  },
  {
   "cell_type": "markdown",
   "id": "685f18ed-dcdc-405e-8064-facd34575fe8",
   "metadata": {},
   "source": [
    "## P5.IV) Quelle normalisation ?"
   ]
  },
  {
   "cell_type": "markdown",
   "id": "4e50f515-8793-479d-8516-9a3a4d839cc8",
   "metadata": {},
   "source": [
    "Testons maintenant l'impact de **`normalization = \"stem\"`** ou **`normalization = \"lem\"`**\n",
    "\n",
    "Nota : Nous allons également injecter des vecteurs mots pré-entraînés (\"glove.twitter.27B.50d.txt\", non entraînable) dans le pipeline. En effet il est important de comparer `stem` et `lem` dans une situation plus proche de la version finale."
   ]
  },
  {
   "cell_type": "code",
   "execution_count": null,
   "id": "6ad60b5c-fb38-4119-b419-0bf39d638b17",
   "metadata": {},
   "outputs": [],
   "source": [
    "# test normalization = \"stem\" or \"lem\"\n",
    "for norm in [\"stem\", \"lem\"] :\n",
    "    # update text_vectorizer_params\n",
    "    text_vectorizer_params[\"layer_name\"] = \"preprocess_vectorization_\"+norm\n",
    "    text_vectorizer_params[\"normalization\"] = norm\n",
    "\n",
    "    # update embedding params\n",
    "    embedding_params[\"embedding_file_path\"] = \"pretrained_embeddings/glove.twitter.27B.50d.txt\"\n",
    "    model_params[\"trainable_embedding\"] = False\n",
    "\n",
    "    # run name\n",
    "    run_name = \"norm_exploration_\"+norm\n",
    "\n",
    "    # filter mlflow.search_run dataframe on this name\n",
    "    query = f\"tags.mlflow.runName = '{run_name}'\"\n",
    "    results = mlflow.search_runs(experiment_names=[\"sentiment_analysis\"], filter_string=query)\n",
    "\n",
    "    # if a run with this name does not already exist, use function advanced_long_pipeline_valid\n",
    "    if len(results) == 0 :\n",
    "        mf.advanced_long_pipeline_valid (\n",
    "            text_vectorizer_params=text_vectorizer_params, \n",
    "            embedding_params=embedding_params,\n",
    "            model_params=model_params,\n",
    "            run_name=run_name,\n",
    "            experiment_name=\"sentiment_analysis\",\n",
    "            X_train=X_tr_train, \n",
    "            y_train=y_tr_train, \n",
    "            X_valid=X_tr_valid,\n",
    "            y_valid=y_tr_valid,\n",
    "            early_stopping_patience=early_stopping_patience,\n",
    "            fit_params=fit_params,\n",
    "            nested=False,\n",
    "            outPlot = True,\n",
    "            outSummary = True,\n",
    "            save_time = True, \n",
    "            return_auc=False\n",
    "        )\n",
    "    \n",
    "    # else, just load the roc and pr curves\n",
    "    else :\n",
    "        # load image artifact from mlflow experiment\n",
    "        artifact_uri = results[\"artifact_uri\"].values[0]\n",
    "        roc_pr_curves = mlflow.artifacts.load_image(artifact_uri + \"/valid_roc_pr_curves.png\")\n",
    "        # create a figure and plot\n",
    "        plt.figure(figsize=(14,9))\n",
    "        plt.imshow(roc_pr_curves)\n",
    "        # no axis\n",
    "        plt.axis(False)\n",
    "        plt.show()\n"
   ]
  },
  {
   "cell_type": "code",
   "execution_count": null,
   "id": "3e4dc96e-eaa9-4c67-8a89-8ebb5b3871cd",
   "metadata": {},
   "outputs": [],
   "source": [
    "# get mlflow results\n",
    "results = mlflow.search_runs(experiment_names=[\"sentiment_analysis\"])\n",
    "# filter on runs\n",
    "mask = results[\"tags.mlflow.runName\"].apply(lambda x : \"norm_exploration_\" in x)\n",
    "# columns\n",
    "cols = [\"tags.mlflow.runName\", \"metrics.valid_ROC_AUC\", \"metrics.valid_Accuracy\", \"metrics.training_time\", \"params.normalization\"]\n",
    "results.loc[mask, cols]"
   ]
  },
  {
   "cell_type": "markdown",
   "id": "78d2b71d-bddb-4c4e-8d62-5b4bac9ae32e",
   "metadata": {},
   "source": [
    "Nous choisissons la ***lemmatisation***, qui nous offre une meilleure `ROC_AUC` sur les données de validation."
   ]
  },
  {
   "cell_type": "code",
   "execution_count": null,
   "id": "da1f79bf-fdb7-4602-97a5-55f16d2cb07d",
   "metadata": {},
   "outputs": [],
   "source": [
    "text_vectorizer_params[\"normalization\"] = \"lem\"\n",
    "text_vectorizer_params[\"layer_name\"] = \"preprocess_vectorization_lem\""
   ]
  },
  {
   "cell_type": "markdown",
   "id": "74ed5a70-1c98-42dc-b219-79fa97735f87",
   "metadata": {},
   "source": [
    "## P5.V) Quel embedding ?"
   ]
  },
  {
   "cell_type": "markdown",
   "id": "5b478bd8-15b4-4750-a577-ad2bdedaba22",
   "metadata": {},
   "source": [
    "Essayons maintenant deux fichiers de *\"vecteurs mots\"* :\n",
    "- Glove : `glove.6B.300d.txt`\n",
    "- FastText : `fasttext-wiki-news-300d-1M.vec`\n",
    "\n",
    "\n",
    "et comparons les résultats :"
   ]
  },
  {
   "cell_type": "code",
   "execution_count": null,
   "id": "3e58e3a8-8b22-46f5-9811-b8af27b7ea15",
   "metadata": {},
   "outputs": [],
   "source": [
    "# test Glove or FastText\n",
    "for trainable_embedding in [False, True] :\n",
    "    for name,path in zip([\"Glove\", \"fastText\"],[\"pretrained_embeddings/glove.6B.300d.txt\", \"pretrained_embeddings/fasttext-wiki-news-300d-1M.vec\"]) :\n",
    "        # update embedding params\n",
    "        embedding_params[\"embedding_file_path\"] = path\n",
    "        # update model params\n",
    "        model_params[\"model_name\"] = \"no_dropout_\"+name+\"_embedding\"+\"_\"+str(trainable_embedding)\n",
    "        model_params[\"trainable_embedding\"] = trainable_embedding\n",
    "    \n",
    "        # run name\n",
    "        run_name = \"embedding_exploration_\"+name+\"_\"+str(trainable_embedding)\n",
    "    \n",
    "        # filter mlflow.search_run dataframe on this name\n",
    "        query = f\"tags.mlflow.runName = '{run_name}'\"\n",
    "        results = mlflow.search_runs(experiment_names=[\"sentiment_analysis\"], filter_string=query)\n",
    "    \n",
    "        # if a run with this name does not already exist, use function advanced_long_pipeline_valid\n",
    "        if len(results) == 0 :\n",
    "            mf.advanced_long_pipeline_valid (\n",
    "                text_vectorizer_params=text_vectorizer_params, \n",
    "                embedding_params=embedding_params,\n",
    "                model_params=model_params,\n",
    "                run_name=run_name,\n",
    "                experiment_name=\"sentiment_analysis\",\n",
    "                X_train=X_tr_train,#.iloc[:1000], \n",
    "                y_train=y_tr_train,#.iloc[:1000], \n",
    "                X_valid=X_tr_valid,#.iloc[:100],\n",
    "                y_valid=y_tr_valid,#.iloc[:100],\n",
    "                early_stopping_patience=early_stopping_patience,\n",
    "                fit_params=fit_params,\n",
    "                nested=False,\n",
    "                outPlot=True,\n",
    "                outSummary=True,\n",
    "                save_time=True, \n",
    "                return_auc=False\n",
    "            )\n",
    "        \n",
    "        # else, just load the roc and pr curves\n",
    "        else :\n",
    "            # load image artifact from mlflow experiment\n",
    "            artifact_uri = results[\"artifact_uri\"].values[0]\n",
    "            roc_pr_curves = mlflow.artifacts.load_image(artifact_uri + \"/valid_roc_pr_curves.png\")\n",
    "            # create a figure and plot\n",
    "            plt.figure(figsize=(14,9))\n",
    "            plt.imshow(roc_pr_curves)\n",
    "            # no axis\n",
    "            plt.axis(False)\n",
    "            plt.show()\n"
   ]
  },
  {
   "cell_type": "code",
   "execution_count": null,
   "id": "485a3fd4-7b19-4a6c-8402-ae391f1b9cb6",
   "metadata": {},
   "outputs": [],
   "source": [
    "# get mlflow results\n",
    "results = mlflow.search_runs(experiment_names=[\"sentiment_analysis\"])\n",
    "# filter on runs\n",
    "mask = results[\"tags.mlflow.runName\"].apply(lambda x : \"embedding_exploration_\" in x)\n",
    "# columns\n",
    "cols = [\"tags.mlflow.runName\", \"metrics.valid_ROC_AUC\", \"metrics.valid_Accuracy\", \"metrics.training_time\", \"params.normalization\"]\n",
    "results.loc[mask, cols]"
   ]
  },
  {
   "cell_type": "markdown",
   "id": "ad681cf8-c37c-4919-868d-b4cea7cdf1f9",
   "metadata": {},
   "source": [
    "Nous choisissons ***FastText*** avec des **poids entraînables**, qui nous offre une meilleure `ROC_AUC` sur les données de validation."
   ]
  },
  {
   "cell_type": "code",
   "execution_count": null,
   "id": "568e12fa-68ea-4303-b42d-48b253959202",
   "metadata": {},
   "outputs": [],
   "source": [
    "# update embedding params\n",
    "embedding_params[\"embedding_file_path\"] = \"pretrained_embeddings/glove.6B.300d.txt\"\n",
    "# update model params\n",
    "model_params[\"model_name\"] = \"no_dropout_glove_embedding\"\n",
    "model_params[\"trainable_embedding\"] = True"
   ]
  },
  {
   "cell_type": "markdown",
   "id": "7a7f41c0-0164-4249-8e27-c958ee8940f7",
   "metadata": {},
   "source": [
    "## P5.VI) Quels hyperparamètres pour le modèle `LSTM` ?"
   ]
  },
  {
   "cell_type": "markdown",
   "id": "256707e9-26eb-4cf5-8d59-d9085f977bdb",
   "metadata": {},
   "source": [
    "Maintenant que nous avons choisi les hyperparamètres des étapes préliminaires de notre pipeline, nous pouvons nous intéresser :\n",
    "- au modèle `LSTM` (`LSTM_units`, `LSTM_dropout`, `LSTM_recurrent_dropout`, `optimizer`)\n",
    "- aux paramètres d'entraînement (`early_stopping_patience`, `batch_size`)\n",
    "\n",
    "Nota : il n'y a que 2 éléments dans les listes comportant des nombres entiers ou des nombres flottants, `optuna` choisira des valeurs comprises entre ces 2 nombres, avec un pas égal au plus petit : `trial.suggest_int(name=param, low=min(listOfValues), high=max(listOfValues), step=min(listOfValues))`."
   ]
  },
  {
   "cell_type": "code",
   "execution_count": null,
   "id": "4754597c-87c6-42bd-82ca-772208f7ef3d",
   "metadata": {},
   "outputs": [],
   "source": [
    "run_name_prefix = \"optuna_advanced\"\n",
    "\n",
    "# create dictionnaries with layers hyperparameters grids\n",
    "\n",
    "# model GRID\n",
    "model_params_grid = dict(\n",
    "    model_name = \"LSTM_for_\"+run_name_prefix,\n",
    "    seq_len=sequence_len,\n",
    "    LSTM_units = [10, 40], \n",
    "    LSTM_dropout = [0.2, 0.8],\n",
    "    LSTM_recurrent_dropout = [0.2, 0.8],\n",
    "    optimizer = [\"adam\",\"RMSprop\"],\n",
    "    trainable_embedding = True,\n",
    ")\n",
    "\n",
    "# fit params\n",
    "early_stopping_patience_grid=[4, 6]\n",
    "\n",
    "fit_params_grid = dict(\n",
    "    epochs=100,\n",
    "    batch_size=[32,128],\n",
    "    verbose=0,\n",
    ")"
   ]
  },
  {
   "cell_type": "code",
   "execution_count": null,
   "id": "17d5471f",
   "metadata": {},
   "outputs": [],
   "source": [
    "# filter mlflow.search_run dataframe on this name\n",
    "query = f\"tags.mlflow.runName = '{run_name_prefix}_PARENT'\"\n",
    "results = mlflow.search_runs(experiment_names=[\"sentiment_analysis\"], filter_string=query)\n",
    "\n",
    "# if a run with this name does not already exist, use function\n",
    "if len(results) == 0 :\n",
    "    mf.optunaShortAdvanced(\n",
    "        text_vectorizer_params=text_vectorizer_params,\n",
    "        embedding_params=embedding_params,\n",
    "        model_params_grid=model_params_grid,\n",
    "        run_name_prefix=run_name_prefix,\n",
    "        experiment_name=\"sentiment_analysis\",\n",
    "        X_train=X_tr_train,#[:1000], \n",
    "        y_train=y_tr_train,#[:1000], \n",
    "        X_valid=X_tr_valid,#[:100],\n",
    "        y_valid=y_tr_valid,#[:100],\n",
    "        early_stopping_patience_grid=early_stopping_patience_grid,\n",
    "        fit_params_grid=fit_params_grid,\n",
    "        n_trials=30,\n",
    "        save_time=True\n",
    "    )\n",
    "\n",
    "\n",
    "# else, just load the roc and pr curves\n",
    "else :\n",
    "    # load image artifact from mlflow experiment\n",
    "    artifact_uri = results[\"artifact_uri\"].values[0]\n",
    "    roc_pr_curves = mlflow.artifacts.load_image(artifact_uri + \"/valid_roc_pr_curves.png\")\n",
    "    # create a figure and plot\n",
    "    plt.figure(figsize=(14,9))\n",
    "    plt.imshow(roc_pr_curves)\n",
    "    # no axis\n",
    "    plt.axis(False)\n",
    "    plt.show()"
   ]
  },
  {
   "cell_type": "markdown",
   "id": "6d5da498-241f-4f3b-92ae-1e015d5c4758",
   "metadata": {},
   "source": [
    "Regardons les résultats :"
   ]
  },
  {
   "cell_type": "code",
   "execution_count": null,
   "id": "05fd2416-46ec-4780-938d-c1cb4fb5d696",
   "metadata": {},
   "outputs": [],
   "source": [
    "# get mlflow results\n",
    "results = mlflow.search_runs(experiment_names=[\"sentiment_analysis\"])\n",
    "# filter on runs\n",
    "mask = results[\"tags.mlflow.runName\"].apply(lambda x : \"optuna_advanced\" in x)\n",
    "# columns\n",
    "cols = [\"tags.mlflow.runName\", \"metrics.valid_ROC_AUC\", \"metrics.valid_Accuracy\", \"metrics.training_time\", \"params.normalization\"]\n",
    "# cols = cols+[col for col in results.columns if \"params.\" in col]\n",
    "\n",
    "display(results.loc[mask, cols])"
   ]
  },
  {
   "cell_type": "markdown",
   "id": "d2791942-c2a3-42ad-9d2f-fe6925e4eaf1",
   "metadata": {},
   "source": [
    "Nous pouvons du coup extraire les meilleurs hyperparamètres pour notre modèle avancé :"
   ]
  },
  {
   "cell_type": "code",
   "execution_count": null,
   "id": "86c45d95-2649-4b87-9b02-7c4bc5898857",
   "metadata": {},
   "outputs": [],
   "source": [
    "# extract best hyperparamters and put them in dictionaries\n",
    "\n",
    "# first focus on \"params.\" columns and on the \"PARENT\" run\n",
    "cols = [col for col in results.columns if \"params.\" in col]\n",
    "mask = results[\"tags.mlflow.runName\"] == \"optuna_advanced_PARENT\"\n",
    "best_parameters = results.loc[mask, cols]\n",
    "# rename columns (remove \"params.\")\n",
    "best_parameters = best_parameters.rename(columns={col:col.split(\"params.\")[-1] for col in best_parameters})\n",
    "\n",
    "# put parameters in a dict\n",
    "best_parameters = best_parameters.iloc[0].to_dict()\n",
    "# carefull with numericals (mlflow logs numbers as string)\n",
    "best_parameters = {param : int(val) if (type(val) == str and val.isnumeric()) else val for param, val in best_parameters.items()}\n",
    "best_parameters = {param : float(val)  if (type(val) == str and val.replace(\".\", \"\").isnumeric()) else val for param, val in best_parameters.items()}\n",
    "# carefull with bools\n",
    "best_parameters = {param : True if val == \"True\" else val for param, val in best_parameters.items()}\n",
    "best_parameters = {param : False if val == \"False\" else val for param, val in best_parameters.items()}\n",
    "\n",
    "# use inspect to get functions' parameters names\n",
    "import inspect\n",
    "# initiate dictionnaries for our training pipeline\n",
    "best_text_vectorizer_params = {}\n",
    "best_embedding_params = {}\n",
    "best_model_params = {}\n",
    "# for each function and parameters dictionary\n",
    "for paramsDict, func in zip(\n",
    "    [best_text_vectorizer_params, best_embedding_params, best_model_params],\n",
    "    [mf.create_text_vectorizer, mf.get_embedding_matrix, mf.create_LSTM]\n",
    ") :\n",
    "    # get the list of parameters\n",
    "    argspec = inspect.getfullargspec(func).args\n",
    "    if len(argspec) > 0 :\n",
    "        paramsList = argspec\n",
    "    else :\n",
    "        # model.fit does not give its parameters, we just keep \"epochs\", \"batch_size\", \"verbose\", already given\n",
    "        paramsList = list(paramsDict.keys())\n",
    "    # complete the dictionaries    \n",
    "    for param in paramsList :\n",
    "        if (param in best_parameters) and (param not in  [\"verbose\"]) :\n",
    "            paramsDict[param] = best_parameters[param]\n",
    "\n",
    "# get fit_params\n",
    "best_fit_params = {\"batch_size\" : best_parameters[\"batch_size\"], \"epochs\" : 100, \"verbose\" : 2}\n",
    "\n",
    "# get early_stopping_patience\n",
    "best_early_stopping_patience = best_parameters[\"early_stopping_patience\"]\n",
    "\n",
    "\n",
    "# print results\n",
    "print(\"best_text_vectorizer_params :\")\n",
    "print(best_text_vectorizer_params)\n",
    "print(\"best_embedding_params :\")\n",
    "print(best_embedding_params)\n",
    "print(\"best_model_params :\")\n",
    "print(best_model_params)\n",
    "print(\"best_early_stopping_patience :\")\n",
    "print(best_early_stopping_patience)\n",
    "print(\"best_fit_params :\")\n",
    "print(best_fit_params)"
   ]
  },
  {
   "cell_type": "markdown",
   "id": "89e80d29-50e3-4efc-9a8f-0f6bd27532e3",
   "metadata": {},
   "source": [
    "## P5.VII) Modèle avancé final"
   ]
  },
  {
   "cell_type": "code",
   "execution_count": null,
   "id": "1d6c795c-6946-4e68-a561-f2db642bf8e1",
   "metadata": {},
   "outputs": [],
   "source": [
    "# create folders to save advanced model\n",
    "if not os.path.isdir(\"mySaves/advanced_model_large\"):\n",
    "    os.mkdir(\"mySaves/advanced_model_large\")"
   ]
  },
  {
   "cell_type": "code",
   "execution_count": null,
   "id": "3d89540c-254d-42d6-a83d-ccbdccec1961",
   "metadata": {},
   "outputs": [],
   "source": [
    "# use our advanced_long_pipeline_valid function with these parameters\n",
    "run_name = \"final_advanced\"\n",
    "best_model_params[\"model_name\"] = run_name\n",
    "\n",
    "# filter mlflow.search_run dataframe on this name\n",
    "query = f\"tags.mlflow.runName = '{run_name}'\"\n",
    "results = mlflow.search_runs(experiment_names=[\"sentiment_analysis\"], filter_string=query)\n",
    "\n",
    "# if a run with this name does not already exist, use function advanced_long_pipeline_valid\n",
    "if len(results) == 0 :\n",
    "    # TEXT_VECT, MODEL, MODEL_EXP=\n",
    "    mf.advanced_long_pipeline_test (\n",
    "        text_vectorizer_params=best_text_vectorizer_params,\n",
    "        embedding_params=best_embedding_params,\n",
    "        model_params=best_model_params,\n",
    "        run_name=run_name,\n",
    "        experiment_name=\"sentiment_analysis\",\n",
    "        X_train=X_tr_train,#[:100], \n",
    "        y_train=y_tr_train,#[:100], \n",
    "        X_valid=X_tr_valid,#[:10],\n",
    "        y_valid=y_tr_valid,#[:10],\n",
    "        X_test=X_test,#[:10],\n",
    "        y_test=y_test,#[:10],\n",
    "        early_stopping_patience = best_early_stopping_patience,\n",
    "        fit_params=best_fit_params,\n",
    "        outPlot=True, \n",
    "        outSummary=True,\n",
    "        save_time=True, \n",
    "        save_model=True,\n",
    "        save_path=\"mySaves/advanced_model_large/\",\n",
    "        tagStatus=\"final\"\n",
    "    )\n",
    "\n",
    "\n",
    "# else, just load the roc and pr curves\n",
    "else :\n",
    "    # load image artifact from mlflow experiment\n",
    "    artifact_uri = results[\"artifact_uri\"].values[0]\n",
    "    roc_pr_curves = mlflow.artifacts.load_image(artifact_uri + \"/test_roc_pr_curves.png\")\n",
    "    # create a figure and plot\n",
    "    plt.figure(figsize=(14,9))\n",
    "    plt.imshow(roc_pr_curves)\n",
    "    # no axis\n",
    "    plt.axis(False)\n",
    "    plt.show()\n"
   ]
  },
  {
   "cell_type": "markdown",
   "id": "33612c7b",
   "metadata": {},
   "source": [
    "## P5.VII) Modèle avancé final SMALL"
   ]
  },
  {
   "cell_type": "code",
   "execution_count": null,
   "id": "e2ea6228",
   "metadata": {},
   "outputs": [],
   "source": [
    "# use our advanced_long_pipeline_valid function with these parameters\n",
    "run_name = \"final_advanced_SMALL\"\n",
    "best_model_params[\"model_name\"] = run_name\n",
    "\n",
    "# filter mlflow.search_run dataframe on this name\n",
    "query = f\"tags.mlflow.runName = '{run_name}'\"\n",
    "results = mlflow.search_runs(experiment_names=[\"sentiment_analysis\"], filter_string=query)\n",
    "\n",
    "# if a run with this name does not already exist, use function advanced_long_pipeline_valid\n",
    "if len(results) == 0 :\n",
    "    mf.advanced_long_pipeline_test (\n",
    "        text_vectorizer_params=best_text_vectorizer_params,\n",
    "        embedding_params=best_embedding_params,\n",
    "        model_params=best_model_params,\n",
    "        run_name=run_name,\n",
    "        experiment_name=\"sentiment_analysis\",\n",
    "        X_train=X_tr_train[:100], \n",
    "        y_train=y_tr_train[:100], \n",
    "        X_valid=X_tr_valid[:10],\n",
    "        y_valid=y_tr_valid[:10],\n",
    "        X_test=X_test[:10],\n",
    "        y_test=y_test[:10],\n",
    "        early_stopping_patience = best_early_stopping_patience,\n",
    "        fit_params=best_fit_params,\n",
    "        outPlot=True, \n",
    "        outSummary=True,\n",
    "        save_time=True, \n",
    "        save_model=True,\n",
    "        save_path=\"mySaves/advanced_model_large/\",\n",
    "        tagStatus=\"final\"\n",
    "    )\n",
    "\n",
    "\n",
    "# else, just load the roc and pr curves\n",
    "else :\n",
    "    # load image artifact from mlflow experiment\n",
    "    artifact_uri = results[\"artifact_uri\"].values[0]\n",
    "    roc_pr_curves = mlflow.artifacts.load_image(artifact_uri + \"/test_roc_pr_curves.png\")\n",
    "    # create a figure and plot\n",
    "    plt.figure(figsize=(14,9))\n",
    "    plt.imshow(roc_pr_curves)\n",
    "    # no axis\n",
    "    plt.axis(False)\n",
    "    plt.show()\n"
   ]
  },
  {
   "cell_type": "markdown",
   "id": "8d9b8862",
   "metadata": {},
   "source": [
    "# PARTIE 6 - MODELE BERT"
   ]
  },
  {
   "cell_type": "markdown",
   "id": "67a9f2f6",
   "metadata": {},
   "source": [
    "## P6.I) Méthode"
   ]
  },
  {
   "cell_type": "markdown",
   "id": "3db552ab",
   "metadata": {},
   "source": [
    "### P6.I.1) BERT ?"
   ]
  },
  {
   "cell_type": "markdown",
   "id": "3e00c7d9",
   "metadata": {},
   "source": [
    "**BERT** (Bidirectional Encoder Representations from Transformers) est un modèle de traitement automatique du langage naturel (NLP) préentraîné publié en 2018 par Google. Il utilise une **architecture de transformeur bidirectionnel** pour générer des représentations de mots dans leur **contexte**, améliorant ainsi les performances sur une variété de tâches NLP telles que la classification de texte, l'extraction d'informations et la compréhension de questions.\n",
    "\n",
    "\n",
    "Avant BERT, les approches courantes en NLP impliquaient souvent des fonctionnalités spécifiques à la tâche ou des architectures dédiées, ce qui limitait leurs capacités à se généraliser sur des tâches plus variées. Avec sa **formation massive sur un corpus de données textuelles diversifié** et son transfert efficace vers **différentes tâches NLP**, BERT a **considérablement amélioré l'état de l'art et établi de nouvelles normes en matière de performance dans le domaine du NLP**."
   ]
  },
  {
   "cell_type": "markdown",
   "id": "50867f43",
   "metadata": {},
   "source": [
    "1. **Architecture de transformateur** : BERT s'appuie sur l'architecture de transformateur introduite dans **\"Attention is All You Need\"** pour capturer les relations entre les mots dans un contexte plus large. Cela permet au modèle de comprendre les **nuances subtiles du langage humain** grâce aux mécanismes d'attention multi-têtes.\n",
    "2. **Apprentissage bidirectionnel** : Contrairement aux modèles précédents qui ne peuvent apprendre qu'un seul côté du contexte (gauche ou droit), BERT adopte une **approche bidirectionnelle lors de l'encodage des entrées**. Cette technique permet au modèle de mieux comprendre les interactions complexes entre les mots et leur signification dans un contexte particulier.\n",
    "3. **Pré-entrapinement** : Avant d'être appliqués à des tâches spécifiques, BERT a été formé sur un **corpus énorme provenant du web, d'articles, de livres, etc**. Il est donc capable d'adapter les interactions entre les mots en fonction du contexte de façon très précise.\n",
    "4. **Transfer learning** : Après le pré-entraînement, les poids du modèle BERT peuvent être **utilisés comme point de départ pour une grande variété de tâches NLP**, y compris sur de l'apprentissage supervisé ! Ce processus de **fine tuning** permet au modèle de tirer parti des connaissances acquises précédemment pour réaliser des **performances exceptionnelles avec relativement peu de données annotées**.\n",
    "5. **Flexibilité** : Grâce à ses conceptions flexibles, BERT peut être adapté à plusieurs formats de séquences d'entrée, notamment des phrases isolées, des paires de phrases et même des documents entiers. De plus, il existe des versions de taille variable de BERT, offrant un compromis entre la précision et les ressources informatiques requises.\n",
    "6. **Impact** : Depuis sa publication en 2018, BERT a eu un **impact significatif sur le paysage NLP**, battant régulièrement les records de performance sur divers benchmarks et devenant rapidement la **base de nombreuses applications pratiques dans l'industrie et la recherche universitaire**. Les idées clés derrière BERT ont également inspiré de nombreuses autres innovations en NLP, telles que GPT."
   ]
  },
  {
   "cell_type": "markdown",
   "id": "414cb8a6",
   "metadata": {},
   "source": [
    "### P6.I.2) Quel serait l'apport d'un modèle BERT pour le projet ?"
   ]
  },
  {
   "cell_type": "markdown",
   "id": "1c5258ca",
   "metadata": {},
   "source": [
    "Nous allons tester un modèle de type BERT pour juger de son apport en termes de performance :\n",
    "- utilisation de la librairie `transformers` fournie par **Hugging Face**\n",
    "- utilisation d'un modèle pré-entraîné **léger** : https://huggingface.co/distilbert/distilbert-base-uncased-finetuned-sst-2-english\n",
    "\n",
    "    *\"This model is a fine-tune checkpoint of DistilBERT-base-uncased, fine-tuned on SST-2. This model reaches an accuracy of 91.3 on the dev set (for comparison, Bert bert-base-uncased version reaches an accuracy of 92.7). **DistilBERT is a transformers model, smaller and faster than BERT**, which was pretrained on the same corpus in a self-supervised fashion, using the BERT base model as a teacher.\"*\n",
    "\n",
    "Nous utiliserons les réglages suivants :\n",
    "- `tokenizer` :\n",
    "    - `padding = True`\n",
    "    - `truncation = True`\n",
    "    - `return_tensors = \"tf\"`\n",
    "- `config` du model :\n",
    "    - `id2label = {\"0\" : \"POSITIVE\" , \"1\" : \"NEGATIVE\"}` (et non pas `{\"0\" : \"NEGATIVE\" , \"1\" : \"POSITIVE\"}`), pour refléter la réglage effectué lors du chargement des données.\n",
    "    - idem pour `label2id`\n",
    "    - `config.attention_dropout = 0.4`\n",
    "    - `config.dropout = 0.4`\n",
    "    - `config.seq_classif_dropout = 0.4`\n",
    "- `optimizer=Adam(learning_rate=3e-5)`, cf. https://huggingface.co/docs/transformers/training : *\"# Lower learning rates are often better for fine-tuning transformers\"*\n",
    "- `EarlyStopping` avec une patience de 2\n"
   ]
  },
  {
   "cell_type": "code",
   "execution_count": 6,
   "id": "6193c275",
   "metadata": {},
   "outputs": [
    {
     "data": {
      "application/vnd.jupyter.widget-view+json": {
       "model_id": "24f3f817a3464b988ef49eabedc77172",
       "version_major": 2,
       "version_minor": 0
      },
      "text/plain": [
       "Downloading artifacts:   0%|          | 0/1 [00:00<?, ?it/s]"
      ]
     },
     "metadata": {},
     "output_type": "display_data"
    },
    {
     "data": {
      "image/png": "[encoded data removed]",
      "text/plain": [
       "<Figure size 1400x900 with 1 Axes>"
      ]
     },
     "metadata": {},
     "output_type": "display_data"
    }
   ],
   "source": [
    "# use our advanced_long_pipeline_valid function with these parameters\n",
    "run_name = \"distil_bert\"\n",
    "\n",
    "# filter mlflow.search_run dataframe on this name\n",
    "query = f\"tags.mlflow.runName = '{run_name}'\"\n",
    "results = mlflow.search_runs(experiment_names=[\"sentiment_analysis\"], filter_string=query)\n",
    "\n",
    "# if a run with this name does not already exist, use function advanced_long_pipeline_valid\n",
    "if len(results) == 0 :\n",
    "    mf.transformer_pipe_test(\n",
    "        pretrained_model_name_or_path=\"distilbert/distilbert-base-uncased-finetuned-sst-2-english\",\n",
    "        run_name=run_name,\n",
    "        experiment_name=\"sentiment_analysis\",\n",
    "        X_train=X_tr_train,#[:100], \n",
    "        y_train=y_tr_train,#[:100], \n",
    "        X_valid=X_tr_valid,#[:10],\n",
    "        y_valid=y_tr_valid,#[:10],\n",
    "        X_test=X_test,#[:10],\n",
    "        y_test=y_test,#[:10],\n",
    "        early_stopping_patience = 2,\n",
    "        fit_params = {\n",
    "            \"epochs\":10, \n",
    "            \"batch_size\":128\n",
    "            },\n",
    "        outPlot=True, \n",
    "        outSummary=True,\n",
    "        save_time=True, \n",
    "        tagStatus=\"test_BERT\"\n",
    "    )\n",
    "\n",
    "\n",
    "# else, just load the roc and pr curves\n",
    "else :\n",
    "    # load image artifact from mlflow experiment\n",
    "    artifact_uri = results[\"artifact_uri\"].values[0]\n",
    "    roc_pr_curves = mlflow.artifacts.load_image(artifact_uri + \"/test_roc_pr_curves.png\")\n",
    "    # create a figure and plot\n",
    "    plt.figure(figsize=(14,9))\n",
    "    plt.imshow(roc_pr_curves)\n",
    "    # no axis\n",
    "    plt.axis(False)\n",
    "    plt.show()"
   ]
  },
  {
   "cell_type": "markdown",
   "id": "03842d5b",
   "metadata": {},
   "source": [
    "Les résultats sont encore meilleurs !"
   ]
  },
  {
   "cell_type": "markdown",
   "id": "cff26fe2",
   "metadata": {},
   "source": [
    "# PARTIE 7 - USE"
   ]
  },
  {
   "cell_type": "markdown",
   "id": "da335ae2",
   "metadata": {},
   "source": [
    "Nous pouvons également tester également l'*Universal Sentence Encoder*, une solution non pas de *word embedding*, mais de ***sentence** embedding*. Cette architecture, également développée par Google, est plus ancienne que le modèle *BERT*. \n",
    "\n",
    "Elle reste très intéressante néanmoins car moins consommatrice de ressources mémoire. \n",
    "\n",
    "Nous allons utiliser la librairie `Tensorflow_hub` pour charger la couche d'embedding pré-entrainée `\"https://tfhub.dev/google/universal-sentence-encoder/4\"`. Cela nous permettra d'utiliser *USE* pour faire du *Transfer Learning*. Le modèle contruit est alors constitué de :\n",
    "- notre couche d'embedding `USE` pré-entraînée, que nous allons *fine-tuner* (`trainable=True`)\n",
    "- une couche de `Dropout`\n",
    "- une couche `Dense` de 16 neurones\n",
    "- une couche `Dense` de 1 neurone"
   ]
  },
  {
   "cell_type": "code",
   "execution_count": 50,
   "id": "faae37ff",
   "metadata": {},
   "outputs": [
    {
     "name": "stdout",
     "output_type": "stream",
     "text": [
      "507/507 [==============================] - 473s 913ms/step - loss: 0.4974 - Accuracy: 0.7638 - auc: 0.8392 - val_loss: 0.4811 - val_Accuracy: 0.7817 - val_auc: 0.8691\n",
      "Model: \"USE\"\n",
      "_________________________________________________________________\n",
      " Layer (type)                Output Shape              Param #   \n",
      "=================================================================\n",
      " USE (KerasLayer)            (None, 512)               256797824 \n",
      "                                                                 \n",
      " dropout_4 (Dropout)         (None, 512)               0         \n",
      "                                                                 \n",
      " dense16 (Dense)             (None, 16)                8208      \n",
      "                                                                 \n",
      " dense1 (Dense)              (None, 1)                 17        \n",
      "                                                                 \n",
      "=================================================================\n",
      "Total params: 256806049 (979.64 MB)\n",
      "Trainable params: 256806049 (979.64 MB)\n",
      "Non-trainable params: 0 (0.00 Byte)\n",
      "_________________________________________________________________\n",
      "57/57 [==============================] - 0s 6ms/step - loss: 0.4811 - Accuracy: 0.7817 - auc: 0.8691\n",
      "63/63 [==============================] - 0s 5ms/step - loss: 0.4674 - Accuracy: 0.7740 - auc: 0.8767\n",
      "63/63 [==============================] - 1s 5ms/step\n"
     ]
    },
    {
     "data": {
      "image/png": "[encoded data removed]",
      "text/plain": [
       "<Figure size 1200x600 with 2 Axes>"
      ]
     },
     "metadata": {},
     "output_type": "display_data"
    }
   ],
   "source": [
    "# create our baseline run\n",
    "run_name = \"USE\"\n",
    "\n",
    "# filter mlflow.search_run dataframe on this name\n",
    "query = f\"tags.mlflow.runName = '{run_name}'\"\n",
    "results = mlflow.search_runs(experiment_names=[\"sentiment_analysis\"], filter_string=query)\n",
    "\n",
    "# if a run with this name does not already exist, create, fit and evaluate our baseline model\n",
    "if len(results) == 0 :\n",
    "    mf.use_pipe_test(\n",
    "        run_name=run_name,\n",
    "        experiment_name=\"sentiment_analysis\",\n",
    "        X_train=X_tr_train,#[:100], \n",
    "        y_train=y_tr_train,#[:100], \n",
    "        X_valid=X_tr_valid,#[:10],\n",
    "        y_valid=y_tr_valid,#[:10],\n",
    "        X_test=X_test,#[:10],\n",
    "        y_test=y_test,#[:10],\n",
    "        early_stopping_patience = 2,\n",
    "        fit_params = {\n",
    "            \"epochs\":10, \n",
    "            \"batch_size\":64\n",
    "            },\n",
    "        outPlot=True, \n",
    "        outSummary=True,\n",
    "        save_time=True, \n",
    "        tagStatus=\"test_USE\"\n",
    "    )\n",
    "\n",
    "# else, just load the roc and pr curves\n",
    "else :\n",
    "    # load image artifact from mlflow experiment\n",
    "    artifact_uri = results[\"artifact_uri\"].values[0]\n",
    "    roc_pr_curves = mlflow.artifacts.load_image(artifact_uri + \"/valid_roc_pr_curves.png\")\n",
    "    # create a figure and plot\n",
    "    plt.figure(figsize=(14,9))\n",
    "    plt.imshow(roc_pr_curves)\n",
    "    # no axis\n",
    "    plt.axis(False)\n",
    "    plt.show()"
   ]
  },
  {
   "cell_type": "markdown",
   "id": "1bac3109",
   "metadata": {},
   "source": [
    "Le résultat est là aussi intéressant !"
   ]
  },
  {
   "cell_type": "markdown",
   "id": "d071f81b",
   "metadata": {},
   "source": [
    "# PARTIE 8 - UTILISER LE MODELE AVANCÉ"
   ]
  },
  {
   "cell_type": "markdown",
   "id": "f497ab00",
   "metadata": {},
   "source": [
    "Testons les fonctionnalités de `mlflow` pour utiliser notre modèle avancé :"
   ]
  },
  {
   "cell_type": "markdown",
   "id": "5746a27a",
   "metadata": {},
   "source": [
    "## P8.1) Le charger depuis `mlflow`"
   ]
  },
  {
   "cell_type": "markdown",
   "id": "abecf799",
   "metadata": {},
   "source": [
    "Nous allons tout d'abord utiliser le modèle *loggé* dans le `/mlruns`. Pour cela nous avons créé une fonction `load_mlflow_advanced_model` :\n",
    "- filtrer sur le `run_name`\n",
    "- charger les arguments et la fonction `custom_standardize` \n",
    "    \n",
    "    Nota : en effet pour pouvoir être chargée avec `Keras` sans créer d'erreur, une classe ou une fonction (dans notre cas, la fonction `custom_standardize`) a besoin d'être créée avec le *decorator* `@keras.saving.register_keras_serializable()`.\n",
    "- charger le modèle avec `mlflow.tensorflow.load_model`\n",
    "    "
   ]
  },
  {
   "cell_type": "code",
   "execution_count": 2,
   "id": "27d3c337",
   "metadata": {},
   "outputs": [
    {
     "data": {
      "application/vnd.jupyter.widget-view+json": {
       "model_id": "de8d75845b0d448281c26c31979ce7de",
       "version_major": 2,
       "version_minor": 0
      },
      "text/plain": [
       "Downloading artifacts:   0%|          | 0/1 [00:00<?, ?it/s]"
      ]
     },
     "metadata": {},
     "output_type": "display_data"
    },
    {
     "name": "stdout",
     "output_type": "stream",
     "text": [
      "WARNING:tensorflow:From c:\\Users\\cleme\\anaconda3\\envs\\envProject7\\Lib\\site-packages\\keras\\src\\saving\\legacy\\saved_model\\load.py:107: The name tf.gfile.Exists is deprecated. Please use tf.io.gfile.exists instead.\n",
      "\n",
      "WARNING:tensorflow:From c:\\Users\\cleme\\anaconda3\\envs\\envProject7\\Lib\\site-packages\\keras\\src\\backend.py:873: The name tf.get_default_graph is deprecated. Please use tf.compat.v1.get_default_graph instead.\n",
      "\n",
      "WARNING:tensorflow:From c:\\Users\\cleme\\anaconda3\\envs\\envProject7\\Lib\\site-packages\\keras\\src\\utils\\tf_utils.py:492: The name tf.ragged.RaggedTensorValue is deprecated. Please use tf.compat.v1.ragged.RaggedTensorValue instead.\n",
      "\n"
     ]
    }
   ],
   "source": [
    "# load \"final_advanced\" using custom function \"load_mlflow_advanced_model\"\n",
    "loaded_advanced_model = mf.load_mlflow_advanced_model(run_name=\"final_advanced\", experiment_name=\"sentiment_analysis\", from_registry=False)\n",
    "\n",
    "# summaries\n",
    "loaded_advanced_model.summary()\n",
    "loaded_advanced_model.layers[1].summary()\n",
    "\n"
   ]
  },
  {
   "cell_type": "markdown",
   "id": "9d183a5d",
   "metadata": {},
   "source": [
    "Nous pouvons maintenant l'utiliser :"
   ]
  },
  {
   "cell_type": "code",
   "execution_count": 3,
   "id": "eb173a9e",
   "metadata": {},
   "outputs": [
    {
     "name": "stdout",
     "output_type": "stream",
     "text": [
      "1/1 [==============================] - 0s 473ms/step\n"
     ]
    },
    {
     "data": {
      "text/plain": [
       "array([1, 0, 1])"
      ]
     },
     "execution_count": 3,
     "metadata": {},
     "output_type": "execute_result"
    }
   ],
   "source": [
    "# test our loaded_advanced_model\n",
    "X = [\"I hate you\",\"I love you\", \"I thought I would love you but I don't\"]\n",
    "X = tf.convert_to_tensor(X)\n",
    "mf.predict_with_loaded_model(loaded_advanced_model, X, proba = False)"
   ]
  },
  {
   "cell_type": "markdown",
   "id": "82b0e3ac",
   "metadata": {},
   "source": [
    "Vérifions que la `roc_auc` est bien la même sur le set de test :"
   ]
  },
  {
   "cell_type": "code",
   "execution_count": 12,
   "id": "a778132d",
   "metadata": {},
   "outputs": [
    {
     "name": "stdout",
     "output_type": "stream",
     "text": [
      "ROC AUC on Test set, logged :\n",
      "0.8676\n",
      "63/63 [==============================] - 0s 6ms/step\n",
      "ROC AUC on Test set, with loaded model :\n",
      "0.8676\n"
     ]
    }
   ],
   "source": [
    "# compare roc auc, logged VS computed woth loaded model\n",
    "run_name = \"final_advanced\"\n",
    "\n",
    "# logged with mlflow\n",
    "# filter mlflow.search_run dataframe on this name\n",
    "query = f\"tags.mlflow.runName = '{run_name}'\"\n",
    "results = mlflow.search_runs(experiment_names=[\"sentiment_analysis\"], filter_string=query)\n",
    "# print looged roc auc on test set \n",
    "print(\"ROC AUC on Test set, logged :\")\n",
    "print(round(results[\"metrics.test_ROC_AUC\"].values[0],4))\n",
    "\n",
    "# with loaded model\n",
    "scores_test = mf.predict_with_loaded_model(loaded_advanced_model, X_test, proba = True)\n",
    "print(\"ROC AUC on Test set, with loaded model :\")\n",
    "print(round(roc_auc_score(y_test, scores_test),4))"
   ]
  },
  {
   "cell_type": "markdown",
   "id": "fcf760c5",
   "metadata": {},
   "source": [
    "## P8.2) Test du service de *serving* `mlflow`"
   ]
  },
  {
   "cell_type": "markdown",
   "id": "b4ffe60c",
   "metadata": {},
   "source": [
    "- Via la ligne de commande :\n",
    "    - se placer dans le dossier contenant */mlruns*\n",
    "    - `mlflow models serve -m \"models:/final_advanced_export/1\" -p 1234 --no-conda`\n",
    "- puis tester l'API grâce à la librairie `requests` :"
   ]
  },
  {
   "cell_type": "code",
   "execution_count": 15,
   "id": "814fae67",
   "metadata": {},
   "outputs": [
    {
     "name": "stdout",
     "output_type": "stream",
     "text": [
      "{\"predictions\": [[0.9499937295913696], [0.11322450637817383], [0.9079648852348328]]}\n"
     ]
    }
   ],
   "source": [
    "import requests\n",
    "\n",
    "inference_request = {\n",
    "    \"inputs\" : [\"I hate humans\", \"I love humans\", \"I say I love humans but it's not true\"] \n",
    "}\n",
    "\n",
    "endpoint = \"http://127.0.0.1:1234/invocations\"\n",
    "\n",
    "response = requests.post(endpoint, json=inference_request)\n",
    "\n",
    "print(response.text)"
   ]
  },
  {
   "cell_type": "markdown",
   "id": "30587513-414d-41fc-9268-958f3f74ab90",
   "metadata": {},
   "source": [
    "# Annexe - effacer les runs"
   ]
  },
  {
   "cell_type": "markdown",
   "id": "3cdcf5dd-2bd7-4866-9320-b28ea5a7bc6b",
   "metadata": {},
   "source": [
    "`mlflow` garde sur le disque les runs effacés via l'`ui` ou via `mlflow.delete_run`. Pour y accéder nous pouvons renseigner `run_view_type=2` dans `mlflow.search_runs`. Bien qu'essentiel pour ne pas perdre d'information, nous allons pour notre cas les effacer :"
   ]
  },
  {
   "cell_type": "code",
   "execution_count": 51,
   "id": "a3056de5-fed3-4126-b453-cd3e994eb01f",
   "metadata": {},
   "outputs": [
    {
     "name": "stdout",
     "output_type": "stream",
     "text": [
      "6\n"
     ]
    }
   ],
   "source": [
    "# get all deleted (run_view_type=2) mlflow results\n",
    "pathsToRemove = mlflow.search_runs(experiment_names=[\"sentiment_analysis\"], run_view_type=2)\n",
    "\n",
    "# focus on uri paths\n",
    "pathsToRemove = pathsToRemove['artifact_uri']\n",
    "# remove '/artifacts' from paths\n",
    "pathsToRemove = pathsToRemove.apply(lambda x : re.sub(r\"(/artifacts)\", \"\", x))\n",
    "# remove all characters until \"mlrun/\"\n",
    "# https://stackoverflow.com/questions/7124778/how-can-i-match-anything-up-until-this-sequence-of-characters-in-a-regular-exp\n",
    "pathsToRemove = pathsToRemove.apply(lambda x : re.sub(r\".+?(?=mlruns/)\", \"\", x))\n",
    "print(len(pathsToRemove))\n",
    "# remove directories using shutil\n",
    "for path in pathsToRemove.values :\n",
    "    shutil.rmtree(path, ignore_errors=False)"
   ]
  }
 ],
 "metadata": {
  "kernelspec": {
   "display_name": "envProject7",
   "language": "python",
   "name": "python3"
  },
  "language_info": {
   "codemirror_mode": {
    "name": "ipython",
    "version": 3
   },
   "file_extension": ".py",
   "mimetype": "text/x-python",
   "name": "python",
   "nbconvert_exporter": "python",
   "pygments_lexer": "ipython3",
   "version": "3.11.7"
  }
 },
 "nbformat": 4,
 "nbformat_minor": 5
}
